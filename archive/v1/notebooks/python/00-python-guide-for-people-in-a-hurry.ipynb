{
 "cells": [
  {
   "cell_type": "markdown",
   "metadata": {},
   "source": [
    "# Python Guide for People in a Hurry"
   ]
  },
  {
   "cell_type": "markdown",
   "metadata": {},
   "source": [
    "This notebook is a quick guide to the Python Language. To Learn Python from scratch, we suggest you start with **[Think Python: How to Think Like a Computer Scientist](http://greenteapress.com/thinkpython2/thinkpython2.pdf)** by Allen Downey. If you already know other programming languages and just want to learn the specifics of Python, this tutorial is for you. We are going to cover a lot of ground at a pretty fast pace. "
   ]
  },
  {
   "cell_type": "markdown",
   "metadata": {},
   "source": [
    "## Lexical Structure\n",
    "\n",
    "Python is very particular about program layout, especially with regard to lines and indentation.\n",
    "\n",
    "### Lines and Indentation\n",
    "\n",
    "- In Python, the end of a physical line marks the end of most statements. Unlike in othe programming languages such as C, C++, Python statements **are not normally terminated with a delimiter**, such as a semicolon (`;`). \n",
    "- When a statement is too long to fit on a single physical line, you can join two adjacent physical lines into a logical line by ensuring that the first physical line has no comment and ends with a backslash (`\\`)\n",
    "- Python also joins adjacent physical lines into one logical line if an open parenthesis(`(`), bracket (`[`), or brace (`{`) has not yet been closed. \n",
    "- Python uses indentation to express the block structure of a program. Unlike other languages, Python does not use braces or being/end delimiters around blocks of statements:\n",
    "  - Indentation is the only way to indicate such blocks\n",
    "  - All statements in a block must have the same indentation\n",
    "  - Python style is to use four spaces per indentation level"
   ]
  },
  {
   "cell_type": "markdown",
   "metadata": {},
   "source": [
    "### Identifiers\n",
    "\n",
    "- An **identifier** is a name used to identify a variable, function, class, module, or other object.\n",
    "- Normal Python style is to start class names with an uppercase letter and other identifiers with a lowercase letter.\n",
    "- Starting an identifier with a single leading underscore indicates by convention that the identifier is meant to be private.\n",
    "- Starting an identifier with two leading underscores indicates a strongly private identifier; if the identifier also ends with two trailing underscores, the identifier is a language-defined special name.\n",
    "- The identifier `_` (a single underscore) is special in interactive interpreter sessions: the interpreter binds `_` to the result of the last expression statement evaluated interactively, if any."
   ]
  },
  {
   "cell_type": "markdown",
   "metadata": {},
   "source": [
    "### Keywords\n",
    "\n",
    "- Python version `3+` has a set of 33 keywords that are reserved words that cannot be used as variable names, function names, or any other identifiers:\n",
    "\n",
    "|Method|Description|\n",
    "|--- |--- |\n",
    "|and|A logical operator|\n",
    "|as|To create an alias|\n",
    "|assert|For debugging|\n",
    "|break|To break out of a loop|\n",
    "|class|To define a class|\n",
    "|continue|To continue to the next iteration of a loop|\n",
    "|def|To define a function|\n",
    "|del|To delete an object|\n",
    "|elif|Used in conditional statements, same as else if|\n",
    "|else|Used in conditional statements|\n",
    "|except|Used with exceptions, what to do when an exception occurs|\n",
    "|False|Boolean value, result of comparison operations|\n",
    "|finally|Used with exceptions, a block of code that will be executed no matter if there is an exception or not|\n",
    "|for|To create a for loop|\n",
    "|from|To import specific parts of a module|\n",
    "|global|To declare a global variable|\n",
    "|if|To make a conditional statement|\n",
    "|import|To import a module|\n",
    "|in|To check if a value is present in a list, tuple, etc.|\n",
    "|is|To test if two variables are equal|\n",
    "|lambda|To create an anonymous function|\n",
    "|None|Represents a null value|\n",
    "|nonlocal|To declare a non-local variable|\n",
    "|not|A logical operator|\n",
    "|or|A logical operator|\n",
    "|pass|A null statement, a statement that will do nothing|\n",
    "|raise|To raise an exception|\n",
    "|return|To exit a function and return a value|\n",
    "|True|Boolean value, result of comparison operations|\n",
    "|try|To make a try...except statement|\n",
    "|while|To create a while loop|\n",
    "|with|Used to simplify exception handling|\n",
    "|yield|To end a function, returns a generator|\n"
   ]
  },
  {
   "cell_type": "markdown",
   "metadata": {},
   "source": [
    "## Data Types\n",
    "\n",
    "- All data values in Python are represented by objects, and each object, or value, has **a type**.\n",
    "- An object's type determines what operations you can perform on the data value. \n",
    "- The type also determines the object's attributes and items (if any) and whether the object can be altered.\n",
    "- Python has built-in objects for fundamental data types such as numbers, strings, tuples, lists, sets, and dictionaries"
   ]
  },
  {
   "cell_type": "markdown",
   "metadata": {},
   "source": [
    "### [Numeric Types — int, float, complex](https://docs.python.org/3/library/stdtypes.html#numeric-types-int-float-complex)\n",
    "\n",
    "- The built-in number objects in Python support integers (plain, long) , floating-point numbers, and complex numbers.\n",
    "- All numbers in Python are immutable objects, i.e. when you perform an operation on a number object, you always produce a new number object\n",
    "- Integers have unlimited precision."
   ]
  },
  {
   "cell_type": "code",
   "execution_count": null,
   "metadata": {},
   "outputs": [],
   "source": [
    "1, 23, 5588 # Decimal integers"
   ]
  },
  {
   "cell_type": "code",
   "execution_count": null,
   "metadata": {},
   "outputs": [],
   "source": [
    "0., 0.0009, 0.1, 1e0, 1.0e-5 # Floating-point numbers"
   ]
  },
  {
   "cell_type": "markdown",
   "metadata": {},
   "source": [
    "A Python floating-point value corresponds to a **C double**  and shares its limits of range and precision. Information about the precision and internal representation of floating point numbers for the machine on which your program is running is available in:"
   ]
  },
  {
   "cell_type": "code",
   "execution_count": null,
   "metadata": {},
   "outputs": [],
   "source": [
    "import sys"
   ]
  },
  {
   "cell_type": "code",
   "execution_count": null,
   "metadata": {},
   "outputs": [],
   "source": [
    "sys.float_info"
   ]
  },
  {
   "cell_type": "markdown",
   "metadata": {},
   "source": [
    "A complex number is made up of two floating-point values, one each for the real and imaginary parts:"
   ]
  },
  {
   "cell_type": "code",
   "execution_count": null,
   "metadata": {},
   "outputs": [],
   "source": [
    "0j, 0.5j + 4 # complex numbers"
   ]
  },
  {
   "cell_type": "markdown",
   "metadata": {},
   "source": [
    "### [Text Sequence Type — str](https://docs.python.org/3/library/stdtypes.html#text-sequence-type-str)\n"
   ]
  },
  {
   "cell_type": "markdown",
   "metadata": {},
   "source": [
    "- A built-in string object is an ordered collection of characters.\n",
    "- Strings in Python are **immutable** squences of Unicode code points, i.e. when you perform an operation on a string object, you always produce a new string object\n",
    "- A string literal can be single, double or triple-quoted:"
   ]
  },
  {
   "cell_type": "code",
   "execution_count": null,
   "metadata": {},
   "outputs": [],
   "source": [
    "'CESM is a fully-coupled, community, global climate model'"
   ]
  },
  {
   "cell_type": "code",
   "execution_count": null,
   "metadata": {},
   "outputs": [],
   "source": [
    "\"CESM is a fully-coupled, community, global climate model\""
   ]
  },
  {
   "cell_type": "markdown",
   "metadata": {},
   "source": [
    "The two different kinds of quotes function identically; having both allows you to include one kind of quote\n",
    "\n",
    "inside a string specified with the other kind without need to escape them with the backslash character (`\\`):"
   ]
  },
  {
   "cell_type": "code",
   "execution_count": null,
   "metadata": {},
   "outputs": [],
   "source": [
    "# quote can be escaped\n",
    "'CESM provides state-of-the-art computer simulations of the Earth\\'s past, present, and future climate states.' "
   ]
  },
  {
   "cell_type": "code",
   "execution_count": null,
   "metadata": {},
   "outputs": [],
   "source": [
    "# this way is more readable\n",
    "\"CESM provides state-of-the-art computer simulations of the Earth's past, present, and future climate states.\" "
   ]
  },
  {
   "cell_type": "markdown",
   "metadata": {},
   "source": [
    "To have a string span multiple lines, you can use a backslash as the last character of the line to indicate that the next line is a contiuation:\n",
    "    "
   ]
  },
  {
   "cell_type": "code",
   "execution_count": null,
   "metadata": {},
   "outputs": [],
   "source": [
    "print(\"CESM is a fully-coupled, community, global climate model that provides state-of-the-art \\\n",
    "computer simulations of the Earth's past, present, and future climate states.\")"
   ]
  },
  {
   "cell_type": "markdown",
   "metadata": {},
   "source": [
    "To make the string output on two lines, you must embed a newline character in the string:\n",
    "    "
   ]
  },
  {
   "cell_type": "code",
   "execution_count": null,
   "metadata": {},
   "outputs": [],
   "source": [
    "print(\"CESM is a fully-coupled, community, global climate model that provides state-of-the-art\\n\\\n",
    "computer simulations of the Earth's past, present, and future climate states.\")"
   ]
  },
  {
   "cell_type": "markdown",
   "metadata": {},
   "source": [
    "Another approach is to use a triple-quoted string, which is enclosed by matching triplets of quote characters(`'''` or `\"\"\"`):"
   ]
  },
  {
   "cell_type": "code",
   "execution_count": null,
   "metadata": {},
   "outputs": [],
   "source": [
    "print(\"\"\"CESM is a fully-coupled, community, global climate model \n",
    "that provides state-of-the-art computer simulations of the Earth's past, \n",
    "present, and future climate states.\"\"\")"
   ]
  },
  {
   "cell_type": "markdown",
   "metadata": {},
   "source": [
    "- **String interpolation**"
   ]
  },
  {
   "cell_type": "markdown",
   "metadata": {},
   "source": [
    "*Old Style*"
   ]
  },
  {
   "cell_type": "code",
   "execution_count": null,
   "metadata": {},
   "outputs": [],
   "source": [
    "'Both %s and %s are %s%d components' %('pop', 'cam', 'CESM', 2)"
   ]
  },
  {
   "cell_type": "code",
   "execution_count": null,
   "metadata": {},
   "outputs": [],
   "source": [
    "'Both {} and {} are {}{} components'.format('pop', 'cam', 'CESM', 2)"
   ]
  },
  {
   "cell_type": "markdown",
   "metadata": {},
   "source": [
    "*F-strings*"
   ]
  },
  {
   "cell_type": "code",
   "execution_count": null,
   "metadata": {},
   "outputs": [],
   "source": [
    "component_1='pop'\n",
    "component_2='cam'\n",
    "cesm='CESM'\n",
    "version=2"
   ]
  },
  {
   "cell_type": "code",
   "execution_count": null,
   "metadata": {},
   "outputs": [],
   "source": [
    "f'Both {component_1} and {component_2} are {cesm}{version} components'"
   ]
  },
  {
   "cell_type": "markdown",
   "metadata": {},
   "source": [
    "\n",
    "<div class=\"alert alert-info\">\n",
    "\n",
    "**Note:**\n",
    "\n",
    "To Learn more about Python 3's f-Strings, please check [Python 3's f-Strings: An Improved String Formatting Syntax (Guide)](https://realpython.com/python-f-strings/)\n",
    "\n",
    "</div>\n"
   ]
  },
  {
   "cell_type": "markdown",
   "metadata": {},
   "source": [
    "- **String concatenation with + and ***\n",
    "\n",
    "Strings concatenated with the `+` operator can repeated with `*`, but only if enclosed in parentheses:"
   ]
  },
  {
   "cell_type": "markdown",
   "metadata": {},
   "source": [
    "- **String concatenation with + and ***\n",
    "\n",
    "Strings concatenated with the `+` operator can repeated with `*`, but only if enclosed in parentheses:"
   ]
  },
  {
   "cell_type": "code",
   "execution_count": null,
   "metadata": {},
   "outputs": [],
   "source": [
    "'a' * 3"
   ]
  },
  {
   "cell_type": "code",
   "execution_count": null,
   "metadata": {},
   "outputs": [],
   "source": [
    "('a' * 3 + 'B') * 2"
   ]
  },
  {
   "cell_type": "markdown",
   "metadata": {},
   "source": [
    "- **Unicode**\n",
    "\n",
    "Unicode characters can be entered directly into string literals:\n",
    "\n"
   ]
  },
  {
   "cell_type": "code",
   "execution_count": null,
   "metadata": {},
   "outputs": [],
   "source": [
    "'André-Marie Ampère', 'Château de Versailles'"
   ]
  },
  {
   "cell_type": "markdown",
   "metadata": {},
   "source": [
    "Python even supports unicode variable names, so identifiers can use non-ASCII characters:"
   ]
  },
  {
   "cell_type": "code",
   "execution_count": null,
   "metadata": {},
   "outputs": [],
   "source": [
    "Σ = 4\n",
    "ǝlƃuɐᴉɹʇ = 10.5\n",
    "π = 3.14\n",
    "β = 5"
   ]
  },
  {
   "cell_type": "code",
   "execution_count": null,
   "metadata": {},
   "outputs": [],
   "source": [
    "π, β, π+β, ǝlƃuɐᴉɹʇ*2"
   ]
  },
  {
   "cell_type": "markdown",
   "metadata": {},
   "source": [
    "- **String slicing**"
   ]
  },
  {
   "cell_type": "markdown",
   "metadata": {},
   "source": [
    "Because of the syntax of string slicing, `s[m:n]`, the number `n-m` is always the length of the substring. In other words, to return `r` characters starting at index m, use s`[m:m+r]`"
   ]
  },
  {
   "cell_type": "code",
   "execution_count": null,
   "metadata": {},
   "outputs": [],
   "source": [
    "s = 'CESM Models | CESM2'"
   ]
  },
  {
   "cell_type": "code",
   "execution_count": null,
   "metadata": {},
   "outputs": [],
   "source": [
    "s[:5]"
   ]
  },
  {
   "cell_type": "code",
   "execution_count": null,
   "metadata": {},
   "outputs": [],
   "source": [
    "s[5:14]"
   ]
  },
  {
   "cell_type": "code",
   "execution_count": null,
   "metadata": {},
   "outputs": [],
   "source": [
    "s[15:]"
   ]
  },
  {
   "cell_type": "markdown",
   "metadata": {},
   "source": [
    "#### String Methods\n",
    "\n",
    "Python has a set of built-in methods that you can use on strings.\n",
    "\n",
    "\n",
    "\n",
    "|Method|Description|\n",
    "|--- |--- |\n",
    "|`capitalize()`|Converts the first character to upper case|\n",
    "|`casefold()`|Converts string into lower case|\n",
    "|`center()`|Returns a centered string|\n",
    "|`count()`|Returns the number of times a specified value occurs in a string|\n",
    "|`encode()`|Returns an encoded version of the string|\n",
    "|`endswith()`|Returns true if the string ends with the specified value|\n",
    "|`expandtabs()`|Sets the tab size of the string|\n",
    "|`find()`|Searches the string for a specified value and returns the position of where it was found|\n",
    "|`format()`|Formats specified values in a string|\n",
    "|`format_map()`|Formats specified values in a string|\n",
    "|`index()`|Searches the string for a specified value and returns the position of where it was found|\n",
    "|`isalnum()`|Returns True if all characters in the string are alphanumeric|\n",
    "|`isalpha()`|Returns True if all characters in the string are in the alphabet|\n",
    "|`isdecimal()`|Returns True if all characters in the string are decimals|\n",
    "|`isdigit()`|Returns True if all characters in the string are digits|\n",
    "|`isidentifier()`|Returns True if the string is an identifier|\n",
    "|`islower()`|Returns True if all characters in the string are lower case|\n",
    "|`isnumeric()`|Returns True if all characters in the string are numeric|\n",
    "|`isprintable()`|Returns True if all characters in the string are printable|\n",
    "|`isspace()`|Returns True if all characters in the string are whitespaces|\n",
    "|`istitle()`|Returns True if the string follows the rules of a title|\n",
    "|`isupper()`|Returns True if all characters in the string are upper case|\n",
    "|`join()`|Joins the elements of an iterable to the end of the string|\n",
    "|`ljust()`|Returns a left justified version of the string|\n",
    "|`lower()`|Converts a string into lower case|\n",
    "|`lstrip()`|Returns a left trim version of the string|\n",
    "|`maketrans()`|Returns a translation table to be used in translations|\n",
    "|`partition()`|Returns a tuple where the string is parted into three parts|\n",
    "|`replace()`|Returns a string where a specified value is replaced with a specified value|\n",
    "|`rfind()`|Searches the string for a specified value and returns the last position of where it was found|\n",
    "|`rindex()`|Searches the string for a specified value and returns the last position of where it was found|\n",
    "|`rpartition()`|Returns a tuple where the string is parted into three parts|\n",
    "|`rsplit()`|Splits the string at the specified separator, and returns a list|\n",
    "|`rstrip()`|Returns a right trim version of the string|\n",
    "|`split()`|Splits the string at the specified separator, and returns a list|\n",
    "|`splitlines()`|Splits the string at line breaks and returns a list|\n",
    "|`startswith()`|Returns true if the string starts with the specified value|\n",
    "|`strip()`|Returns a trimmed version of the string|\n",
    "|`swapcase()`|Swaps cases, lower case becomes upper case and vice versa|\n",
    "|`title()`|Converts the first character of each word to upper case|\n",
    "|`translate()`|Returns a translated string|\n",
    "|`upper()`|Converts a string into upper case|\n",
    "|`zfill()`|Fills the string with a specified number of 0 values at the beginning|\n"
   ]
  },
  {
   "cell_type": "markdown",
   "metadata": {},
   "source": [
    "Here are some possible manipulations using string methods:"
   ]
  },
  {
   "cell_type": "code",
   "execution_count": null,
   "metadata": {},
   "outputs": [],
   "source": [
    "s = 'idl python c++ ncl fortran'"
   ]
  },
  {
   "cell_type": "code",
   "execution_count": null,
   "metadata": {},
   "outputs": [],
   "source": [
    "s.isalpha()"
   ]
  },
  {
   "cell_type": "markdown",
   "metadata": {},
   "source": [
    "`s.isalpha()` is False because of the spaces and `++`."
   ]
  },
  {
   "cell_type": "code",
   "execution_count": null,
   "metadata": {},
   "outputs": [],
   "source": [
    "b = s.title()\n",
    "b"
   ]
  },
  {
   "cell_type": "code",
   "execution_count": null,
   "metadata": {},
   "outputs": [],
   "source": [
    "c = b.replace(' ', '!\\n')\n",
    "print(c)"
   ]
  },
  {
   "cell_type": "code",
   "execution_count": null,
   "metadata": {},
   "outputs": [],
   "source": [
    "c.index('Python')"
   ]
  },
  {
   "cell_type": "code",
   "execution_count": null,
   "metadata": {},
   "outputs": [],
   "source": [
    "c[5:].startswith('Py')"
   ]
  },
  {
   "cell_type": "code",
   "execution_count": null,
   "metadata": {},
   "outputs": [],
   "source": [
    "print(c[0:3], c[0:3].isalpha())"
   ]
  },
  {
   "cell_type": "markdown",
   "metadata": {},
   "source": [
    "The string method join, takes a sequence of string objects and joins them together in a single string:\n",
    "\n"
   ]
  },
  {
   "cell_type": "code",
   "execution_count": null,
   "metadata": {},
   "outputs": [],
   "source": [
    "'-'.join( ('one', 'two', 'three') )"
   ]
  },
  {
   "cell_type": "markdown",
   "metadata": {},
   "source": [
    "- **comma-separated thousands**\n",
    "\n",
    "Python can produce string representations of numbers for which thousands are separated by commas:"
   ]
  },
  {
   "cell_type": "code",
   "execution_count": null,
   "metadata": {},
   "outputs": [],
   "source": [
    "'{:11,d}'.format(1000000)"
   ]
  },
  {
   "cell_type": "code",
   "execution_count": null,
   "metadata": {},
   "outputs": [],
   "source": [
    "'{:11,.1f}'.format(1000000.)"
   ]
  },
  {
   "cell_type": "markdown",
   "metadata": {},
   "source": [
    "### Sequence Types — list, tuple, range\n",
    "\n",
    "- A **Sequence** is an ordered container of items, indexed by non-negative integers. \n",
    "- Python provides built-in sequence types for tuples, lists, and range objects."
   ]
  },
  {
   "cell_type": "markdown",
   "metadata": {},
   "source": [
    "#### [Tuples](https://docs.python.org/3/library/stdtypes.html#tuples)\n"
   ]
  },
  {
   "cell_type": "markdown",
   "metadata": {},
   "source": [
    "- A `tuple` is an immutable ordered sequence of items. \n",
    "- Tuples are typically used to store collections of heterogeneous data.\n",
    "- Tuples may be constructed in a number of ways:"
   ]
  },
  {
   "cell_type": "code",
   "execution_count": null,
   "metadata": {},
   "outputs": [],
   "source": [
    "(100, 668.9, 'Hello') # Separating items with commas"
   ]
  },
  {
   "cell_type": "code",
   "execution_count": null,
   "metadata": {},
   "outputs": [],
   "source": [
    "(3.15, ) # Using a trailing comma for a singleton tuple"
   ]
  },
  {
   "cell_type": "code",
   "execution_count": null,
   "metadata": {},
   "outputs": [],
   "source": [
    "() # Using a pair of parentheses to denote the empty tuple"
   ]
  },
  {
   "cell_type": "code",
   "execution_count": null,
   "metadata": {},
   "outputs": [],
   "source": [
    "tuple('hello') # Using the  built-in tuple() constructor"
   ]
  },
  {
   "cell_type": "markdown",
   "metadata": {},
   "source": [
    "Note that it is actually the comma which makes a tuple, not the parentheses."
   ]
  },
  {
   "cell_type": "code",
   "execution_count": null,
   "metadata": {},
   "outputs": [],
   "source": [
    "'cesm-le', 'cmip'"
   ]
  },
  {
   "cell_type": "markdown",
   "metadata": {},
   "source": [
    "The parentheses are optional, except in the empty tuple case, or when they are needed to avoid syntactic ambiguity."
   ]
  },
  {
   "cell_type": "markdown",
   "metadata": {},
   "source": [
    "#### [Lists](https://docs.python.org/3/library/stdtypes.html#lists)"
   ]
  },
  {
   "cell_type": "markdown",
   "metadata": {},
   "source": [
    "- A `list` is a mutable ordered sequence of items.\n",
    "- Lists are typically used to store collections of homogeneous items but may store arbitrary objects of different types\n",
    "- Lists may be constructed in several ways:"
   ]
  },
  {
   "cell_type": "code",
   "execution_count": null,
   "metadata": {},
   "outputs": [],
   "source": [
    "[\"cesm\", \"cmip\", \"cam\", \"pop\", \"mom\"] # Using a pair of square brackets"
   ]
  },
  {
   "cell_type": "code",
   "execution_count": null,
   "metadata": {},
   "outputs": [],
   "source": [
    "[100, 'hi']"
   ]
  },
  {
   "cell_type": "code",
   "execution_count": null,
   "metadata": {},
   "outputs": [],
   "source": [
    "[] # Empty list"
   ]
  },
  {
   "cell_type": "code",
   "execution_count": null,
   "metadata": {},
   "outputs": [],
   "source": [
    "list('hello') # Using the type constructor"
   ]
  },
  {
   "cell_type": "code",
   "execution_count": null,
   "metadata": {},
   "outputs": [],
   "source": [
    "[character for character in 'hello'] # Using a list comprehension"
   ]
  },
  {
   "cell_type": "markdown",
   "metadata": {},
   "source": [
    "#### [Ranges](https://docs.python.org/3/library/stdtypes.html#ranges)\n",
    "\n",
    "- The range type represents an immutable sequence of numbers and is commonly used for looping a specific number of times in for loops."
   ]
  },
  {
   "cell_type": "code",
   "execution_count": null,
   "metadata": {},
   "outputs": [],
   "source": [
    "range(0, 10, 2) # range(start, stop[, step])"
   ]
  },
  {
   "cell_type": "markdown",
   "metadata": {},
   "source": [
    "The advantage of the range type over a regular list or tuple is that a range object will always take the same (small) amount of memory, no matter the size of the range it represents (as it only stores the start, stop and step values, calculating individual items and subranges as needed)."
   ]
  },
  {
   "cell_type": "markdown",
   "metadata": {},
   "source": [
    "#### [Mapping Types — dict](https://docs.python.org/3/library/stdtypes.html#mapping-types-dict)"
   ]
  },
  {
   "cell_type": "markdown",
   "metadata": {},
   "source": [
    "- A `mapping` is an arbitrary collection of objects indexed by nearly arbitrary values called `keys`.\n",
    "- Mappings are mutable objects\n",
    "- There is currently only one standard mapping type, the `dictionary`.\n",
    "- An item in a dictionary is a `key/value` pair. A Python dictionary is also known in some other languages as a hash\n",
    "- A dictionary’s keys are almost arbitrary values. \n",
    "    - Values that are not hashable, that is, values containing lists, dictionaries or other mutable types (that are compared by value rather than by object identity) may not be used as keys. \n",
    "    - Numeric types used for keys obey the normal rules for numeric comparison: if two numbers compare equal (such as 1 and 1.0) then they can be used interchangeably to index the same dictionary entry. \n",
    "    - Note however, that since computers store floating-point numbers as approximations it is usually unwise to use them as dictionary keys."
   ]
  },
  {
   "cell_type": "markdown",
   "metadata": {},
   "source": [
    "Dictionaries can be created by placing a comma-separated list of key: value pairs within braces, for example: \n",
    "        "
   ]
  },
  {
   "cell_type": "code",
   "execution_count": null,
   "metadata": {},
   "outputs": [],
   "source": [
    "{'jack': 4098, 'sjoerd': 4127} "
   ]
  },
  {
   "cell_type": "code",
   "execution_count": null,
   "metadata": {},
   "outputs": [],
   "source": [
    "{4098: 'jack', 4127: 'sjoerd'}"
   ]
  },
  {
   "cell_type": "markdown",
   "metadata": {},
   "source": [
    "or by the dict constructor:"
   ]
  },
  {
   "cell_type": "code",
   "execution_count": null,
   "metadata": {},
   "outputs": [],
   "source": [
    "dict([['jack', 4098], ['sjoerd', 4127]])"
   ]
  },
  {
   "cell_type": "markdown",
   "metadata": {},
   "source": [
    "- If a key appears more than once, only the last item with that key is kept in the resulting dictionary:"
   ]
  },
  {
   "cell_type": "code",
   "execution_count": null,
   "metadata": {},
   "outputs": [],
   "source": [
    "{'jack': 4098, 'sjoerd': 4127, 'jack': 1000000}"
   ]
  },
  {
   "cell_type": "markdown",
   "metadata": {},
   "source": [
    "### None"
   ]
  },
  {
   "cell_type": "markdown",
   "metadata": {},
   "source": [
    "- The built-in type `None` denotes a null object.\n",
    "- None has no methods or other attributes.\n",
    "- You can use `None` as a placeholder when you need a reference but you don't care about what object you refer to, or when you need to indicate that no object is there.\n",
    "- Functions return `None` as their result unless they have specific return statements coded to return other values. "
   ]
  },
  {
   "cell_type": "code",
   "execution_count": null,
   "metadata": {},
   "outputs": [],
   "source": [
    "None"
   ]
  },
  {
   "cell_type": "markdown",
   "metadata": {},
   "source": [
    "## Variables and Other References"
   ]
  },
  {
   "cell_type": "markdown",
   "metadata": {},
   "source": [
    "\n",
    "\n",
    "- In Python, there are no declarations.\n",
    "- The existence of a variable depends on a statement that sets a name to hold a reference to some object\n",
    "- In Python, a variable or other reference has no intrinsic type:"
   ]
  },
  {
   "cell_type": "code",
   "execution_count": null,
   "metadata": {},
   "outputs": [],
   "source": [
    "a = 5 # bind a to int(5)\n",
    "a, type(a)"
   ]
  },
  {
   "cell_type": "code",
   "execution_count": null,
   "metadata": {},
   "outputs": [],
   "source": [
    "a = 68.98 # bind a to a float\n",
    "a, type(a)"
   ]
  },
  {
   "cell_type": "code",
   "execution_count": null,
   "metadata": {},
   "outputs": [],
   "source": [
    "a = b = c = 'hello' # multiple assignements to the same value\n",
    "a, b, c"
   ]
  },
  {
   "cell_type": "markdown",
   "metadata": {},
   "source": [
    "To unbind reference of an object, a `del` statement can be used:"
   ]
  },
  {
   "cell_type": "code",
   "execution_count": null,
   "metadata": {},
   "outputs": [],
   "source": [
    "del a"
   ]
  },
  {
   "cell_type": "markdown",
   "metadata": {},
   "source": [
    "Despite its name, `del` statement does not delete objects, rather it unbinds references. Object deletion may follow as a consequence, by Python's garbage collection, when no more references to an object exist. "
   ]
  },
  {
   "cell_type": "markdown",
   "metadata": {},
   "source": [
    "## Sequence Operations"
   ]
  },
  {
   "cell_type": "markdown",
   "metadata": {},
   "source": [
    "Python supports a variety of operations that can be applied to sequence types, including strings, lists and tuples"
   ]
  },
  {
   "cell_type": "markdown",
   "metadata": {},
   "source": [
    "### Indexing a sequence\n",
    "\n",
    "The `nth` item of a sequence `S` is denoted by an indexing: `S[n]`. Note that indexing in Python is zero-based: if `S` has `L` items, the index `n` may be `0, 1, ..., L-1`:"
   ]
  },
  {
   "cell_type": "code",
   "execution_count": null,
   "metadata": {},
   "outputs": [],
   "source": [
    "x = [ 10, 33, 58, 9]\n",
    "x"
   ]
  },
  {
   "cell_type": "code",
   "execution_count": null,
   "metadata": {},
   "outputs": [],
   "source": [
    "x[1]"
   ]
  },
  {
   "cell_type": "code",
   "execution_count": null,
   "metadata": {},
   "outputs": [],
   "source": [
    "# A negative `n` indicates the same item in `S` as L+n\n",
    "x[-1] # Get last element"
   ]
  },
  {
   "cell_type": "code",
   "execution_count": null,
   "metadata": {},
   "outputs": [],
   "source": [
    "x[3]"
   ]
  },
  {
   "cell_type": "code",
   "execution_count": null,
   "metadata": {},
   "outputs": [],
   "source": [
    "len(x)  # Find number of items"
   ]
  },
  {
   "cell_type": "markdown",
   "metadata": {},
   "source": [
    "### Slicing a sequence"
   ]
  },
  {
   "cell_type": "markdown",
   "metadata": {},
   "source": [
    "- You can denote a subsequence of `S` with a slicing, using the syntax `S[i:j]`, where `i` and `j` are integers.\n",
    "- Note that in Python, all ranges include the lower bound and exclude the upper bound:"
   ]
  },
  {
   "cell_type": "code",
   "execution_count": null,
   "metadata": {},
   "outputs": [],
   "source": [
    "x"
   ]
  },
  {
   "cell_type": "code",
   "execution_count": null,
   "metadata": {},
   "outputs": [],
   "source": [
    "x[1:3]"
   ]
  },
  {
   "cell_type": "code",
   "execution_count": null,
   "metadata": {},
   "outputs": [],
   "source": [
    "x[1:]"
   ]
  },
  {
   "cell_type": "code",
   "execution_count": null,
   "metadata": {},
   "outputs": [],
   "source": [
    "x[:2]"
   ]
  },
  {
   "cell_type": "markdown",
   "metadata": {},
   "source": [
    "### Modifying a list\n",
    "\n",
    "You can modify a list by assigning to an indexing:\n",
    "    "
   ]
  },
  {
   "cell_type": "code",
   "execution_count": null,
   "metadata": {},
   "outputs": [],
   "source": [
    "x"
   ]
  },
  {
   "cell_type": "code",
   "execution_count": null,
   "metadata": {},
   "outputs": [],
   "source": [
    "x[1] = 4200\n",
    "x"
   ]
  },
  {
   "cell_type": "code",
   "execution_count": null,
   "metadata": {},
   "outputs": [],
   "source": [
    "x[1:3] = [0, 0, 0]\n",
    "x"
   ]
  },
  {
   "cell_type": "code",
   "execution_count": null,
   "metadata": {},
   "outputs": [],
   "source": [
    "x[1:4] = [33, 58]\n",
    "x"
   ]
  },
  {
   "cell_type": "markdown",
   "metadata": {},
   "source": [
    "You can delete an item or a slice from a list with `del`:"
   ]
  },
  {
   "cell_type": "code",
   "execution_count": null,
   "metadata": {},
   "outputs": [],
   "source": [
    "x"
   ]
  },
  {
   "cell_type": "code",
   "execution_count": null,
   "metadata": {},
   "outputs": [],
   "source": [
    "del x[1]\n",
    "x"
   ]
  },
  {
   "cell_type": "markdown",
   "metadata": {},
   "source": [
    "### List methods\n",
    "\n",
    "Python has a set of built-in methods that you can use on lists\n",
    "\n",
    "|Method|Description|\n",
    "|--- |--- |\n",
    "|`append()`|Adds an element at the end of the list|\n",
    "|`clear()`|Removes all the elements from the list|\n",
    "|`copy()`|Returns a copy of the list|\n",
    "|`count()`|Returns the number of elements with the specified value|\n",
    "|`extend()`|Add the elements of a list (or any iterable), to the end of the current list|\n",
    "|`index()`|Returns the index of the first element with the specified value|\n",
    "|`insert()`|Adds an element at the specified position|\n",
    "|`pop()`|Removes the element at the specified position|\n",
    "|`remove()`|Removes the first item with the specified value|\n",
    "|`reverse()`|Reverses the order of the list|\n",
    "|`sort()`|Sorts the list|\n"
   ]
  },
  {
   "cell_type": "markdown",
   "metadata": {},
   "source": [
    "## Dictionary Operations"
   ]
  },
  {
   "cell_type": "markdown",
   "metadata": {},
   "source": [
    "### Indexing a Dictionary"
   ]
  },
  {
   "cell_type": "code",
   "execution_count": null,
   "metadata": {},
   "outputs": [],
   "source": [
    "d = {'time': '2000-01-01', 'lat': -50, 'lon': 100}\n",
    "d"
   ]
  },
  {
   "cell_type": "code",
   "execution_count": null,
   "metadata": {},
   "outputs": [],
   "source": [
    "d['lon']"
   ]
  },
  {
   "cell_type": "code",
   "execution_count": null,
   "metadata": {},
   "outputs": [],
   "source": [
    "d['time']"
   ]
  },
  {
   "cell_type": "code",
   "execution_count": null,
   "metadata": {},
   "outputs": [],
   "source": [
    "d['time_bounds'] = 2\n",
    "d"
   ]
  },
  {
   "cell_type": "markdown",
   "metadata": {},
   "source": [
    "### Dictionary Methods\n",
    "\n",
    "Python has a set of built-in methods that you can use on dictionaries.\n",
    "\n",
    "\n",
    "|Method|Description|\n",
    "|--- |--- |\n",
    "|`clear()`|Removes all the elements from the dictionary|\n",
    "|`copy()`|Returns a copy of the dictionary|\n",
    "|`fromkeys()`|Returns a dictionary with the specified keys and values|\n",
    "|`get()`|Returns the value of the specified key|\n",
    "|`items()`|Returns a list containing a tuple for each key value pair|\n",
    "|`keys()`|Returns a list containing the dictionary's keys|\n",
    "|`pop()`|Removes the element with the specified key|\n",
    "|`popitem()`|Removes the last inserted key-value pair|\n",
    "|`setdefault()`|Returns the value of the specified key. If the key does not exist: insert the key, with the specified value|\n",
    "|`update()`|Updates the dictionary with the specified key-value pairs|\n",
    "|`values()`|Returns a list of all the values in the dictionary|\n"
   ]
  },
  {
   "cell_type": "markdown",
   "metadata": {},
   "source": [
    "## Control Flow Statements"
   ]
  },
  {
   "cell_type": "markdown",
   "metadata": {},
   "source": [
    "### The `if` statement"
   ]
  },
  {
   "cell_type": "code",
   "execution_count": null,
   "metadata": {},
   "outputs": [],
   "source": [
    "'a' if 3 < 4 else 'b'"
   ]
  },
  {
   "cell_type": "code",
   "execution_count": null,
   "metadata": {},
   "outputs": [],
   "source": [
    "'a' if 4 < 3 else 'b'"
   ]
  },
  {
   "cell_type": "code",
   "execution_count": null,
   "metadata": {},
   "outputs": [],
   "source": [
    "score = 95\n",
    "\n",
    "if score >= 90:\n",
    "    print('A')\n",
    "    \n",
    "elif score >= 80:\n",
    "    print('B')\n",
    "    \n",
    "else:\n",
    "    print('C')"
   ]
  },
  {
   "cell_type": "markdown",
   "metadata": {},
   "source": [
    "**NOTE:** \n",
    "\n",
    "- Unlike some languages, Python does not have a `switch` statement, so you must use `if`, `elif`, and `else` for all condition processing."
   ]
  },
  {
   "cell_type": "markdown",
   "metadata": {},
   "source": [
    "- Any non-zero number, or non-empty string, tuple, list, or dictionary evaluates as true:"
   ]
  },
  {
   "cell_type": "code",
   "execution_count": null,
   "metadata": {},
   "outputs": [],
   "source": [
    "a = {}\n",
    "b = 'hello'"
   ]
  },
  {
   "cell_type": "code",
   "execution_count": null,
   "metadata": {},
   "outputs": [],
   "source": [
    "if b:\n",
    "    print('Yes')\n",
    "else:\n",
    "    print('No')"
   ]
  },
  {
   "cell_type": "markdown",
   "metadata": {},
   "source": [
    "When you want to test a value `x` in a Boolean context, it's recommended to use the following coding style:\n",
    "\n",
    "```python\n",
    "if x:\n",
    "    ...\n",
    "```\n",
    "This is the clearest and most Pythonic form. Don't use:\n",
    "\n",
    "```python\n",
    "if x is True:\n",
    "    ...\n",
    "if x == True:\n",
    "    ...\n",
    "if bool(x):\n",
    "    ...\n",
    "```\n",
    "\n",
    "<div class=\"alert alert-info\">\n",
    "\n",
    "**Note:**\n",
    "\n",
    "- There is a crucial difference between saying that an expression **returns True** (meaning the expression returns the value 1 intended as a Boolean result) and saying that an expression **evaluates to True** (meaning the expression returns any result that is true in a Boolean context)\n",
    "- When testing an expression, you care about the latter condition, not the former.\n",
    "\n",
    "\n",
    "</div>\n",
    "\n"
   ]
  },
  {
   "cell_type": "markdown",
   "metadata": {},
   "source": [
    "### The `while` Statement"
   ]
  },
  {
   "cell_type": "markdown",
   "metadata": {},
   "source": [
    "The `while` statement in Python supports repeated execution of a statement or block of statements that is controlled by a conditional expression:"
   ]
  },
  {
   "cell_type": "code",
   "execution_count": null,
   "metadata": {},
   "outputs": [],
   "source": [
    "count = 0\n",
    "x = 50\n",
    "while x > 0:\n",
    "    x = x // 2 # Truncating division\n",
    "    count += 1\n",
    "print(f'The approximate log2 of 50 is {count}')"
   ]
  },
  {
   "cell_type": "markdown",
   "metadata": {},
   "source": [
    "### The `for` Statement\n",
    "\n",
    "- A for loop is used for iterating over a sequence (that is either a list, a tuple, a dictionary, a set, or a string).\n",
    "\n",
    "- With the for loop we can execute a set of statements, once for each item in a list, tuple, set etc."
   ]
  },
  {
   "cell_type": "markdown",
   "metadata": {},
   "source": [
    "Here's the syntax for the `for` statement:\n",
    "\n",
    "```python\n",
    "for target in iterable:\n",
    "    statement(s)\n",
    "```"
   ]
  },
  {
   "cell_type": "code",
   "execution_count": null,
   "metadata": {},
   "outputs": [],
   "source": [
    "for letter in \"Python\":\n",
    "    print(f\"Give me a {letter}...\")"
   ]
  },
  {
   "cell_type": "code",
   "execution_count": null,
   "metadata": {},
   "outputs": [],
   "source": [
    "languages = [\"Python\", \"C++\", \"IDL\", \"NCL\", \"Fortran\"]\n",
    "for language in languages:\n",
    "    print(language)"
   ]
  },
  {
   "cell_type": "markdown",
   "metadata": {},
   "source": [
    "### The `break` Statement\n",
    "\n",
    "With the break statement we can stop the loop before it has looped through all the items:"
   ]
  },
  {
   "cell_type": "code",
   "execution_count": null,
   "metadata": {},
   "outputs": [],
   "source": [
    "for language in languages:\n",
    "    print(language)\n",
    "    if language == \"IDL\":\n",
    "        break\n",
    "    "
   ]
  },
  {
   "cell_type": "markdown",
   "metadata": {},
   "source": [
    "### The `continue` Statement\n",
    "\n",
    "With the continue statement we can stop the current iteration of the loop, and continue with the next:"
   ]
  },
  {
   "cell_type": "code",
   "execution_count": null,
   "metadata": {},
   "outputs": [],
   "source": [
    "for language in languages:\n",
    "    if language == \"IDL\":\n",
    "        continue\n",
    "    print(language)\n"
   ]
  },
  {
   "cell_type": "markdown",
   "metadata": {},
   "source": [
    "### The `else` Clause on Loop Statements\n",
    "\n",
    "- Both the `while` and `for` statements may optionally have a trailing `else` clause. The statement or statements after the `else` execute when the loop terminates naturally. \n",
    "- When a loop contains one or more `break` statements, you oftern need to check whether the loop terminates naturally or prematurely. You can use na lese clause on the loop for this purpose:"
   ]
  },
  {
   "cell_type": "code",
   "execution_count": null,
   "metadata": {},
   "outputs": [],
   "source": [
    "languages"
   ]
  },
  {
   "cell_type": "code",
   "execution_count": null,
   "metadata": {},
   "outputs": [],
   "source": [
    "for lan in languages:\n",
    "    if lan == 'C':\n",
    "        break\n",
    "else:\n",
    "    print(f\"Warning: no statisfactory item was found in {languages}\")\n",
    "    lan = None"
   ]
  },
  {
   "cell_type": "markdown",
   "metadata": {},
   "source": [
    "## Functions\n",
    "\n",
    "\n",
    "In Python, functions are **first class** objects: they can have variable names assigned to them, they can be passed as arguments to other functions, and can even be returned from other functions. A function is given a name when it is defined, but that name can be reassigned to refer a different object if desired (don't do this unless you mean to!)\n",
    "\n",
    "There are three types of functions in Python:\n",
    "\n",
    "1. **Built-in** functions, such as `help()` to ask for help, `print()` to print an object. You can \n",
    "\n",
    "|Title|Description|\n",
    "|--- |--- |\n",
    "| `abs()`|returns absolute value of a number|\n",
    "| `any()`|Checks if any Element of an Iterable is True|\n",
    "| `all()`|returns true when all elements in iterable is true|\n",
    "| `ascii()`|Returns String Containing Printable Representation|\n",
    "| `bin()`|converts integer to binary string|\n",
    "| `bool()`|Converts a Value to Boolean|\n",
    "| `bytearray()`|returns array of given byte size|\n",
    "| `callable()`|Checks if the Object is Callable|\n",
    "| `bytes()`|returns immutable bytes object|\n",
    "| `chr()`|Returns a Character (a string) from an Integer|\n",
    "| `compile()`|Returns a  code object|\n",
    "| `classmethod()`|returns class method for given function|\n",
    "| `complex()`|Creates a Complex Number|\n",
    "| `delattr()`|Deletes Attribute From the Object|\n",
    "| `dict()`|Creates a Dictionary|\n",
    "| `dir()`|Tries to Return Attributes of Object|\n",
    "| `divmod()`|Returns a Tuple of Quotient and Remainder|\n",
    "| `enumerate()`|Returns an Enumerate Object|\n",
    "| `staticmethod()`|creates static method from a function|\n",
    "| `filter()`|constructs iterator from elements which are true|\n",
    "| `eval()`|Runs  Code Within Program|\n",
    "| `float()`|returns floating point number from number, string|\n",
    "| `format()`|returns formatted representation of a value|\n",
    "| `frozenset()`|returns immutable frozenset object|\n",
    "| `getattr()`|returns value of named attribute of an object|\n",
    "| `globals()`|returns dictionary of current global symbol table|\n",
    "| `exec()`|Executes Dynamically Created Program|\n",
    "| `hasattr()`|returns whether object has named attribute|\n",
    "| `help()`|Invokes the built-in Help System|\n",
    "| `hex()`|Converts to Integer to Hexadecimal|\n",
    "| `hash()`|returns hash value of an object|\n",
    "| `input()`|reads and returns a line of string|\n",
    "| `id()`|Returns Identify of an Object|\n",
    "| `isinstance()`|Checks if an Object is an Instance of Class|\n",
    "| `int()`|returns integer from a number or string|\n",
    "| `issubclass()`|Checks if a Object is Subclass of a Class|\n",
    "| `iter()`|returns iterator for an object|\n",
    "| `list()` | creates list  |\n",
    "| `locals()`|Returns dictionary of a current local symbol table|\n",
    "| `len()`|Returns Length of an Object|\n",
    "| `max()`|returns largest element|\n",
    "| `min()`|returns smallest element|\n",
    "| `map()`|Applies Function and Returns a List|\n",
    "| `next()`|Retrieves Next Element from Iterator|\n",
    "| `memoryview()`|returns memory view of an argument|\n",
    "| `object()`|Creates a Featureless Object|\n",
    "| `oct()`|converts integer to octal|\n",
    "| `ord()`|returns Unicode code point for Unicode character|\n",
    "| `open()`|Returns a File object|\n",
    "| `pow()`|returns x to the power of y|\n",
    "| `print()`|Prints the Given Object|\n",
    "| `property()`|returns a property attribute|\n",
    "| `range()`|return sequence of integers between start and stop|\n",
    "| `repr()`|returns printable representation of an object|\n",
    "| `reversed()`|returns reversed iterator of a sequence|\n",
    "| `round()`|rounds a floating point number to ndigits places.|\n",
    "| `set()`|returns a  set|\n",
    "| `setattr()`|sets value of an attribute of object|\n",
    "| `slice()`|creates a slice object specified by range()|\n",
    "| `sorted()`|returns sorted list from a given iterable|\n",
    "| `str()`|returns informal representation of an object|\n",
    "| `sum()`|Add items of an Iterable|\n",
    "| `tuple()` Function|Creates a Tuple|\n",
    "| `type()`|Returns Type of an Object|\n",
    "| `vars()`|Returns __dict__ attribute of a class|\n",
    "| `zip()`|Returns an Iterator of Tuples|\n",
    "| `__import__()`|Advanced Function Called by import|\n",
    "| `super()`|Allow you to Refer Parent Class by super|\n"
   ]
  },
  {
   "cell_type": "markdown",
   "metadata": {},
   "source": [
    "2. User-Defined Functions(UDFs), which are functions that users create to help them out\n",
    "\n",
    "3. Anonymous functions, also known as **lambda** functions because they are not declared with the standard `def` keyworkd. "
   ]
  },
  {
   "cell_type": "markdown",
   "metadata": {},
   "source": [
    "### How to define a User-Defined Function:\n",
    "\n",
    "The four steps to defining a function in Python are the following:\n",
    "\n",
    "- Use the keyword `def` to declare the function and follow this up with the function name.\n",
    "- Add parameters to the function: they should be within the parentheses of the function. End your line with a colon.\n",
    "- Add doscstring which describes what your function does, and/or its return values. \n",
    "- Add statements that the functions should execute.\n",
    "- End your function with a return statement if the function should output something. Without the return statement, your function will return an object `None`."
   ]
  },
  {
   "cell_type": "code",
   "execution_count": null,
   "metadata": {},
   "outputs": [],
   "source": [
    "def double(x):\n",
    "    \"\"\"doubles the value passed to it\n",
    "    \n",
    "    Returns\n",
    "    -------\n",
    "    Doubled value\n",
    "    \"\"\"\n",
    "    return x*2"
   ]
  },
  {
   "cell_type": "code",
   "execution_count": null,
   "metadata": {},
   "outputs": [],
   "source": [
    "double(5) # Call function"
   ]
  },
  {
   "cell_type": "markdown",
   "metadata": {},
   "source": [
    "### Function Arguments\n",
    "\n",
    "There are four types of arguments that Python UDFs can take:\n",
    "    \n",
    "- Default arguments\n",
    "- Required arguments\n",
    "- Keyword arguments\n",
    "- Variable number of arguments"
   ]
  },
  {
   "cell_type": "markdown",
   "metadata": {},
   "source": [
    "#### Default Arguments\n",
    "\n",
    "- Default arguments are those that take a default value if no argument value is passed during the function call. \n",
    "- You can assign this default value by with the assignment operator =, just like in the following example:"
   ]
  },
  {
   "cell_type": "code",
   "execution_count": null,
   "metadata": {},
   "outputs": [],
   "source": [
    "def multiply(a, b=5):\n",
    "    return a * b"
   ]
  },
  {
   "cell_type": "code",
   "execution_count": null,
   "metadata": {},
   "outputs": [],
   "source": [
    "multiply(a=2) # Call function with only `a` parameters"
   ]
  },
  {
   "cell_type": "code",
   "execution_count": null,
   "metadata": {},
   "outputs": [],
   "source": [
    "multiply(a=2, b=2) # Call function with `a` and `b` parameters\n"
   ]
  },
  {
   "cell_type": "markdown",
   "metadata": {},
   "source": [
    "#### Required Arguments\n",
    "\n",
    "- The required arguments of a UDF are those that have to be in there. \n",
    "- These arguments need to be passed during the function call and in precisely the right order,"
   ]
  },
  {
   "cell_type": "code",
   "execution_count": null,
   "metadata": {},
   "outputs": [],
   "source": [
    "def divide(a, b):\n",
    "    return a / b"
   ]
  },
  {
   "cell_type": "markdown",
   "metadata": {},
   "source": [
    "You need arguments that map to the a as well as the b parameters to call the function without getting any errors. "
   ]
  },
  {
   "cell_type": "code",
   "execution_count": null,
   "metadata": {},
   "outputs": [],
   "source": [
    "divide(10, 2)"
   ]
  },
  {
   "cell_type": "code",
   "execution_count": null,
   "metadata": {},
   "outputs": [],
   "source": [
    "divide(2, 10)"
   ]
  },
  {
   "cell_type": "markdown",
   "metadata": {},
   "source": [
    "#### Keyword Arguments"
   ]
  },
  {
   "cell_type": "markdown",
   "metadata": {},
   "source": [
    "- If you want to make sure that you call all the parameters in the right order, you can use the keyword arguments in your function call. \n",
    "- You use these to identify the arguments by their parameter name."
   ]
  },
  {
   "cell_type": "code",
   "execution_count": null,
   "metadata": {},
   "outputs": [],
   "source": [
    "def divide(a, b):\n",
    "    return a / b"
   ]
  },
  {
   "cell_type": "code",
   "execution_count": null,
   "metadata": {},
   "outputs": [],
   "source": [
    "divide(10, 2)"
   ]
  },
  {
   "cell_type": "code",
   "execution_count": null,
   "metadata": {},
   "outputs": [],
   "source": [
    "divide(a=10, b=2)"
   ]
  },
  {
   "cell_type": "code",
   "execution_count": null,
   "metadata": {},
   "outputs": [],
   "source": [
    "divide(b=2, a=10)"
   ]
  },
  {
   "cell_type": "markdown",
   "metadata": {},
   "source": [
    "#### Variable Number of Arguments\n",
    "\n",
    "- In cases where you don’t know the exact number of arguments that you want to pass to a function, you can use the following syntax with *args:"
   ]
  },
  {
   "cell_type": "code",
   "execution_count": null,
   "metadata": {},
   "outputs": [],
   "source": [
    "def maximum(*args):\n",
    "    return max(args)"
   ]
  },
  {
   "cell_type": "code",
   "execution_count": null,
   "metadata": {},
   "outputs": [],
   "source": [
    "maximum(1, 4, 5)"
   ]
  },
  {
   "cell_type": "code",
   "execution_count": null,
   "metadata": {},
   "outputs": [],
   "source": [
    "maximum(2, 9)"
   ]
  },
  {
   "cell_type": "code",
   "execution_count": null,
   "metadata": {},
   "outputs": [],
   "source": [
    "maximum(5)"
   ]
  },
  {
   "cell_type": "markdown",
   "metadata": {},
   "source": [
    "The asterisk (*) is placed before the variable name that holds the values of all nonkeyword variable arguments. Note here that you might as well have passed *values, *values_int_args or any other name to the `maximum()` function."
   ]
  },
  {
   "cell_type": "markdown",
   "metadata": {},
   "source": [
    "### Global vs Local Variables\n",
    "\n",
    "- In general, variables that are defined inside a function body have a local scope, and those defined outside have a global scope. That means that local variables are defined within a function block and can only be accessed inside that function, while global variables can be obtained by all functions that might be in your script:"
   ]
  },
  {
   "cell_type": "code",
   "execution_count": null,
   "metadata": {},
   "outputs": [],
   "source": [
    "def outer_func():\n",
    "    def inner_func():\n",
    "        a = 9\n",
    "        print(f'inside inner_func, a is {a} (id={id(a)})')\n",
    "        print(f'inside inner_func, b is {b} (id={id(b)})')\n",
    "        print(f'inside inner_func, len is {len} (id={id(len)})')\n",
    "\n",
    "    len = 2\n",
    "    print(f'inside outer_func, a is {a} (id={id(a)})')\n",
    "    print(f'inside outer_func, b is {b} (id={id(b)})')\n",
    "    print(f'inside outer_func, len is {len} (id={id(len)})')\n",
    "    inner_func()"
   ]
  },
  {
   "cell_type": "code",
   "execution_count": null,
   "metadata": {},
   "outputs": [],
   "source": [
    "a, b = 6, 7\n",
    "outer_func()\n",
    "print(f'in global scope, a is {a} (id={id(a)})')\n",
    "print(f'in global scope, b is {b} (id={id(b)})')\n",
    "print(f'in global scope, len is {len} (id={id(len)})')"
   ]
  },
  {
   "cell_type": "markdown",
   "metadata": {},
   "source": [
    "This program defines a function, inner_func nested inside another, outer_func. After these definitions, the execution proceeds as follows:\n",
    "\n",
    "- Global variables `a=6` and `b=7` are initialized.\n",
    "- `outer_func` is called:\n",
    "    - `outer_func` defines a local variable, len=2.\n",
    "    - The values of a and b are printed; they don't exist in local scope and there isn't any enclosing scope, so Python searches for and finds them in global scope: their values (6 and 7) are output.\n",
    "    \n",
    "    - The value of local variable len (2) is printed.\n",
    "    - `inner_func` is called:\n",
    "   \n",
    "        - A local variable, `a=9` is defined.\n",
    "        - The value of this local variable is printed.\n",
    "        - The value of `b` is printed; `b` doesn't exist in local scope so Python looks for it in enclosing scope, that of `outer_func`. It isn't found there either, so Python proceeds to look in global scope where it is found: the value `b=7` is printed.\n",
    "        - The value of len is printed: `len` doesn't exist in local scope, but it is in the enclosing scope since `len=2` is defined in `outer_func`: its value is output\n",
    "\n",
    "- After `outer_func` has finished execution, the values of `a` and `b` in global scope are printed.\n",
    "\n",
    "- The value of `len` is printed. This is not defined in global scope, so Python searches its own built-in names: `len` is the built-in function for determining the lengths of sequences. This function is itself an object and it provides a short string description of itself when printed."
   ]
  },
  {
   "cell_type": "markdown",
   "metadata": {},
   "source": [
    "### Anonymous Functions in Python\n",
    "\n",
    "- Anonymous functions are also called lambda functions in Python because instead of declaring them with the standard `def` keyword, you use the `lambda` keyword."
   ]
  },
  {
   "cell_type": "code",
   "execution_count": null,
   "metadata": {},
   "outputs": [],
   "source": [
    "double = lambda x: x*2"
   ]
  },
  {
   "cell_type": "code",
   "execution_count": null,
   "metadata": {},
   "outputs": [],
   "source": [
    "double(5)"
   ]
  },
  {
   "cell_type": "markdown",
   "metadata": {},
   "source": [
    "- You use anonymous functions when you require a nameless function for a short period of time, and that is created at runtime. Specific contexts in which this would be relevant is when you’re working with `filter()`, `map()` and `reduce()`:"
   ]
  },
  {
   "cell_type": "code",
   "execution_count": null,
   "metadata": {},
   "outputs": [],
   "source": [
    "from functools import reduce\n",
    "\n",
    "my_list = [1,2,3,4,5,6,7,8,9,10]\n",
    "\n",
    "# Use lambda function with `filter()`\n",
    "filtered_list = list(filter(lambda x: (x*2 > 10), my_list))\n",
    "\n",
    "# Use lambda function with `map()`\n",
    "mapped_list = list(map(lambda x: x*2, my_list))\n",
    "\n",
    "# Use lambda function with `reduce()`\n",
    "reduced_list = reduce(lambda x, y: x+y, my_list)"
   ]
  },
  {
   "cell_type": "code",
   "execution_count": null,
   "metadata": {},
   "outputs": [],
   "source": [
    "print(filtered_list)\n",
    "print(mapped_list)\n",
    "print(reduced_list)"
   ]
  },
  {
   "cell_type": "markdown",
   "metadata": {},
   "source": [
    "The `filter()` function filters, as the name suggests, the original input list my_list on the basis of a criterion `>10`. With `map()`, on the other hand, you apply a function to all items of the list `my_list`. In this case, you multiply all elements with 2.\n",
    "\n",
    "Note that the `reduce()` function is part of the functools library. You use this function cumulatively to the items of the `my_list` list, from left to right and reduce the sequence to a single value, 55, in this case.\n",
    "\n"
   ]
  },
  {
   "cell_type": "markdown",
   "metadata": {},
   "source": [
    "## Modules"
   ]
  },
  {
   "cell_type": "markdown",
   "metadata": {},
   "source": [
    "- A typical Python program is made up of several source files.\n",
    "- Each source file corresponds to a **module**, which packages program codea nd data for reuse.\n",
    "- Modules are normally independent of each other so that other programs can reuse teh specific modules they need. \n",
    "- You can use any Python source file as a module by executing an **`import`** statement in some other code. `import` has the following syntax:\n",
    "\n",
    "```python\n",
    "import modname [as varname][,...]\n",
    "```"
   ]
  },
  {
   "cell_type": "markdown",
   "metadata": {},
   "source": [
    "Let's look at an example ot help our discusion of how to import and use Python modules:"
   ]
  },
  {
   "cell_type": "markdown",
   "metadata": {},
   "source": [
    "- Import Python's numeric package `NumPy` which we will talk about in-depth in next tutorial:"
   ]
  },
  {
   "cell_type": "code",
   "execution_count": null,
   "metadata": {},
   "outputs": [],
   "source": [
    "import numpy\n",
    "\n",
    "# or \n",
    "\n",
    "import numpy as np # np is an alias"
   ]
  },
  {
   "cell_type": "markdown",
   "metadata": {},
   "source": [
    "An import statement creates a new namespace that contains all the attributes of the module. This idea of a **namespace** for Python modules helps protect against collisions. Once a module is imported, you can use functions, variables, etc. defined in the module by referring to the imported name, putting a period (`\".\"`), and the name of the functon, variable, attribute, etc. that was defined in the module:"
   ]
  },
  {
   "cell_type": "code",
   "execution_count": null,
   "metadata": {},
   "outputs": [],
   "source": [
    "numpy.max(6), np.max(6)"
   ]
  },
  {
   "cell_type": "markdown",
   "metadata": {},
   "source": [
    "## Object-Oriented Python"
   ]
  },
  {
   "cell_type": "markdown",
   "metadata": {},
   "source": [
    "Python is an object oriented language, and so has very strong support for objects. In fact, everything in Python is an object, and almost everything has attributes and methods. All functions have a built-in attribute `__doc__`, which returns the doc string defined in the function's source code.  \n",
    "\n",
    "Here's the bare minimum about Python objects:\n"
   ]
  },
  {
   "cell_type": "markdown",
   "metadata": {},
   "source": [
    "### Defining a new class\n",
    "\n",
    "- We define a class `MyObject` with 2 `special` double underscore methods and one normal method. \n",
    "- This class will have an attribute `x` that is specified at the time of creating new instances of the class:\n",
    "\n",
    "    - The `init` method initializes properties of any new instance of `MyObject`\n",
    "    - The `repr` method provides an accurate string representation of `MyObject`. For example, if we print an instance of `MyObject`, the repr method will be used. If you don’t specify a repr (or str) special method, the default name when printing only gives the address in memory.\n",
    "    \n",
    "    \n",
    "There are many more special method, as described in the [official documentation](https://docs.python.org/3.5/reference/datamodel.html). We invite you to check the documentation for more details. "
   ]
  },
  {
   "cell_type": "code",
   "execution_count": null,
   "metadata": {},
   "outputs": [],
   "source": [
    "class MyObject:\n",
    "    \"\"\" Base class. \"\"\"\n",
    "    def __init__(self, x):\n",
    "        self.x = x\n",
    "        \n",
    "    def __repr__(self):\n",
    "        return f'{self.__class__.__name__}({self.x})'\n",
    "    \n",
    "    def report(self):\n",
    "        \"\"\"Report type of contained value.\"\"\"\n",
    "        return f'My value is of type {type(self.x)}'"
   ]
  },
  {
   "cell_type": "markdown",
   "metadata": {},
   "source": [
    "#### Docstrings"
   ]
  },
  {
   "cell_type": "code",
   "execution_count": null,
   "metadata": {},
   "outputs": [],
   "source": [
    "MyObject.__doc__"
   ]
  },
  {
   "cell_type": "code",
   "execution_count": null,
   "metadata": {},
   "outputs": [],
   "source": [
    "help(MyObject)"
   ]
  },
  {
   "cell_type": "code",
   "execution_count": null,
   "metadata": {},
   "outputs": [],
   "source": [
    "MyObject.report.__doc__"
   ]
  },
  {
   "cell_type": "markdown",
   "metadata": {},
   "source": [
    "#### Making an instance of a class"
   ]
  },
  {
   "cell_type": "code",
   "execution_count": null,
   "metadata": {},
   "outputs": [],
   "source": [
    "obj = MyObject('hello world')"
   ]
  },
  {
   "cell_type": "code",
   "execution_count": null,
   "metadata": {},
   "outputs": [],
   "source": [
    "print(obj)"
   ]
  },
  {
   "cell_type": "code",
   "execution_count": null,
   "metadata": {},
   "outputs": [],
   "source": [
    "obj2 = MyObject(x=2.78)"
   ]
  },
  {
   "cell_type": "code",
   "execution_count": null,
   "metadata": {},
   "outputs": [],
   "source": [
    "obj2"
   ]
  },
  {
   "cell_type": "markdown",
   "metadata": {},
   "source": [
    "#### Attribute access"
   ]
  },
  {
   "cell_type": "code",
   "execution_count": null,
   "metadata": {},
   "outputs": [],
   "source": [
    "obj.x, obj2.x"
   ]
  },
  {
   "cell_type": "markdown",
   "metadata": {},
   "source": [
    "#### Method access"
   ]
  },
  {
   "cell_type": "code",
   "execution_count": null,
   "metadata": {},
   "outputs": [],
   "source": [
    "obj.report(), obj2.report()"
   ]
  },
  {
   "cell_type": "markdown",
   "metadata": {},
   "source": [
    "### Class Inheritance"
   ]
  },
  {
   "cell_type": "code",
   "execution_count": null,
   "metadata": {},
   "outputs": [],
   "source": [
    "class NewObject(MyObject):\n",
    "    \"\"\"Derived class inherits from MyObject.\"\"\"\n",
    "    def report(self):\n",
    "        \"\"\"Overwrite report() method of A.\"\"\"\n",
    "        return self.x"
   ]
  },
  {
   "cell_type": "code",
   "execution_count": null,
   "metadata": {},
   "outputs": [],
   "source": [
    "NewObject.__doc__"
   ]
  },
  {
   "cell_type": "markdown",
   "metadata": {},
   "source": [
    "#### Make a new instance of class NewObject"
   ]
  },
  {
   "cell_type": "code",
   "execution_count": null,
   "metadata": {},
   "outputs": [],
   "source": [
    "a = NewObject(3 + 4j)\n",
    "b = NewObject(x = obj)"
   ]
  },
  {
   "cell_type": "markdown",
   "metadata": {},
   "source": [
    "#### Attribute access"
   ]
  },
  {
   "cell_type": "code",
   "execution_count": null,
   "metadata": {},
   "outputs": [],
   "source": [
    "a.x"
   ]
  },
  {
   "cell_type": "code",
   "execution_count": null,
   "metadata": {},
   "outputs": [],
   "source": [
    "b.x"
   ]
  },
  {
   "cell_type": "markdown",
   "metadata": {},
   "source": [
    "#### Nested attribute access"
   ]
  },
  {
   "cell_type": "code",
   "execution_count": null,
   "metadata": {},
   "outputs": [],
   "source": [
    "b.x.report()"
   ]
  },
  {
   "cell_type": "markdown",
   "metadata": {},
   "source": [
    "### Further Reading"
   ]
  },
  {
   "cell_type": "markdown",
   "metadata": {},
   "source": [
    "\n",
    "\n",
    "- [Python Tutorial](https://docs.python.org/3.7/tutorial/index.html)\n",
    "- [Python Official Documentation](https://docs.python.org/release/3.7.2/)\n",
    "- [Johnny Lin's \"A Hands-On Introduction to Using Python in the Atmospheric and Oceanic Sciences\"](http://home.chpc.utah.edu/~u0035056/python/a_hands_on_introduction_to_using_python_in_the_atmospheric_and_oceanic_sciences.pdf)"
   ]
  },
  {
   "cell_type": "code",
   "execution_count": null,
   "metadata": {},
   "outputs": [],
   "source": [
    "%load_ext watermark\n",
    "%watermark --iversion -g -h -m -v -u -d"
   ]
  }
 ],
 "metadata": {
  "kernelspec": {
   "display_name": "Python 3",
   "language": "python",
   "name": "python3"
  },
  "language_info": {
   "codemirror_mode": {
    "name": "ipython",
    "version": 3
   },
   "file_extension": ".py",
   "mimetype": "text/x-python",
   "name": "python",
   "nbconvert_exporter": "python",
   "pygments_lexer": "ipython3",
   "version": "3.6.7"
  }
 },
 "nbformat": 4,
 "nbformat_minor": 2
}
