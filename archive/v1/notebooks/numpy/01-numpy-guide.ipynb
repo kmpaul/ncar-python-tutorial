{
 "cells": [
  {
   "cell_type": "markdown",
   "metadata": {},
   "source": [
    "# NumPy Guide"
   ]
  },
  {
   "cell_type": "markdown",
   "metadata": {},
   "source": [
    "- NumPy provides the numerical backend for nearly every scientific or technical library for Python. In fact, NumPy is the foundation library for scientific computing in Python since it provides data structures and high-performing functions that the basic Python standard library cannot provide. Therefore, knowledge of this library is essential in terms of numerical calculations since its correct use can greatly influence the performance of your computations. \n",
    "\n",
    "- NumPy provides the following additional features:\n",
    "   - `Ndarray`: A multidimensional array much faster and more efficient\n",
    "than those provided by the basic package of Python. The core of NumPy is implemented in C and provides efficient functions for manipulating and processing arrays.\n",
    "\n",
    "  - `Element-wise computation`: A set of functions for performing this type of calculation with arrays and mathematical operations between arrays.\n",
    "  \n",
    "  - `Integration with other languages such as C, C++, and FORTRAN`: A\n",
    "set of tools to integrate code developed with these programming\n",
    "languages.\n",
    "\n",
    "- At a first glance, NumPy arrays bear some resemblance to Python’s list data structure. But an important difference is that while Python lists are generic containers of objects:\n",
    "  - NumPy arrays are homogenous and typed arrays of fixed size. \n",
    "  - Homogenous means that all elements in the array have the same data type. \n",
    "  - Fixed size means that an array cannot be resized (without creating a new array). "
   ]
  },
  {
   "cell_type": "markdown",
   "metadata": {},
   "source": [
    "## Importing the modules"
   ]
  },
  {
   "cell_type": "markdown",
   "metadata": {},
   "source": [
    "In order to use the NumPy library, we need to import it in our program. By convention,\n",
    "the numPy module imported under the alias np, like so:"
   ]
  },
  {
   "cell_type": "code",
   "execution_count": null,
   "metadata": {},
   "outputs": [],
   "source": [
    "import numpy as np"
   ]
  },
  {
   "cell_type": "markdown",
   "metadata": {},
   "source": [
    "After this, we can access functions and classes in the numpy module using the np\n",
    "namespace. Throughout this notebook, we assume that the NumPy module is imported in\n",
    "this way."
   ]
  },
  {
   "cell_type": "markdown",
   "metadata": {},
   "source": [
    "## The NumPy Array Object\n",
    "\n",
    "- The core of the NumPy Library is one main object: `ndarray` (which stands for N-dimensional array)\n",
    "- This object is a multi-dimensional homogeneous array with a predetermined number of items\n",
    "- In addition to the data stored in the array, this data structure also contains important metadata about the array, such as its shape, size, data type, and other attributes. \n",
    "\n",
    "\n",
    "**Basic Attributes of the ndarray Class**\n",
    "\n",
    "| Attribute | Description                                                                                              |\n",
    "|-----------|----------------------------------------------------------------------------------------------------------|\n",
    "| shape     | A tuple that contains the number of elements (i.e., the length)  for each dimension (axis) of the array. |\n",
    "| size      | The total number elements in the array.                                                                  |\n",
    "| ndim      | Number of dimensions (axes).                                                                             |\n",
    "| nbytes    | Number of bytes used to store the data.                                                                  |\n",
    "| dtype     | The data type of the elements in the array.                                                              |\n",
    "| itemsize  | Defines teh size in bytes of each item in the array.                                                     |\n",
    "| data      | A buffer containing the actual elements of the array.                                                    |"
   ]
  },
  {
   "cell_type": "code",
   "execution_count": null,
   "metadata": {},
   "outputs": [],
   "source": [
    "data = np.array([[10, 2], [5, 8], [1, 1]])\n",
    "data"
   ]
  },
  {
   "cell_type": "code",
   "execution_count": null,
   "metadata": {},
   "outputs": [],
   "source": [
    "type(data)"
   ]
  },
  {
   "cell_type": "code",
   "execution_count": null,
   "metadata": {},
   "outputs": [],
   "source": [
    "data.ndim"
   ]
  },
  {
   "cell_type": "code",
   "execution_count": null,
   "metadata": {},
   "outputs": [],
   "source": [
    "data.shape"
   ]
  },
  {
   "cell_type": "code",
   "execution_count": null,
   "metadata": {},
   "outputs": [],
   "source": [
    "data.size"
   ]
  },
  {
   "cell_type": "code",
   "execution_count": null,
   "metadata": {},
   "outputs": [],
   "source": [
    "data.dtype"
   ]
  },
  {
   "cell_type": "code",
   "execution_count": null,
   "metadata": {},
   "outputs": [],
   "source": [
    "data.nbytes"
   ]
  },
  {
   "cell_type": "code",
   "execution_count": null,
   "metadata": {},
   "outputs": [],
   "source": [
    "data.itemsize"
   ]
  },
  {
   "cell_type": "code",
   "execution_count": null,
   "metadata": {},
   "outputs": [],
   "source": [
    "data.data"
   ]
  },
  {
   "cell_type": "markdown",
   "metadata": {},
   "source": [
    "Here the ndarray instance data is created from a nested Python list using the\n",
    "function `np.array`. More ways to create ndarray instances from data and from rules of\n",
    "various kinds are introduced later in this tutorial. "
   ]
  },
  {
   "cell_type": "markdown",
   "metadata": {},
   "source": [
    "### Data types\n",
    "\n",
    "- `dtype` attribute of the `ndarray` describes the data type of each element in the array.\n",
    "- Since NumPy arrays are homogeneous, all elements have the same data type. \n",
    "\n",
    "**Basic Numerical Data Types Available in NumPy**\n",
    "\n",
    "| dtype   | Variants                            | Description                           |\n",
    "|---------|-------------------------------------|---------------------------------------|\n",
    "| int     | int8, int16, int32, int64           | Integers                              |\n",
    "| uint    | uint8, uint16, uint32, uint64       | Unsigned (non-negative) integers      |\n",
    "| bool    | Bool                                | Boolean (True or False)               |\n",
    "| float   | float16, float32, float64, float128 | Floating-point numbers                |\n",
    "| complex | complex64, complex128, complex256   | Complex-valued floating-point numbers |"
   ]
  },
  {
   "cell_type": "markdown",
   "metadata": {},
   "source": [
    "Once a NumPy array is created, its `dtype` cannot be changed, other than by creating a new copy with type-casted array values"
   ]
  },
  {
   "cell_type": "code",
   "execution_count": null,
   "metadata": {},
   "outputs": [],
   "source": [
    "data = np.array([5, 9, 87], dtype=np.float32)\n",
    "data"
   ]
  },
  {
   "cell_type": "code",
   "execution_count": null,
   "metadata": {},
   "outputs": [],
   "source": [
    "data = np.array(data, dtype=np.int32) # use np.array function for type-casting\n",
    "data"
   ]
  },
  {
   "cell_type": "code",
   "execution_count": null,
   "metadata": {},
   "outputs": [],
   "source": [
    "data = np.array([5, 9, 87], dtype=np.float32)\n",
    "data"
   ]
  },
  {
   "cell_type": "code",
   "execution_count": null,
   "metadata": {},
   "outputs": [],
   "source": [
    "data = data.astype(np.int32) # Use astype method of the ndarray class for type-casting\n",
    "data"
   ]
  },
  {
   "cell_type": "markdown",
   "metadata": {},
   "source": [
    "**Data Type Promotion**\n",
    "\n",
    "When working with NumPy arrays, the data type might get promoted from one type to another, if required by the operation. \n",
    "For instance, adding float-value and integer-valued arrays, the resulting array is a float-valued array:"
   ]
  },
  {
   "cell_type": "code",
   "execution_count": null,
   "metadata": {},
   "outputs": [],
   "source": [
    "arr1 = np.array([0, 2, 3], dtype=float)\n",
    "arr1"
   ]
  },
  {
   "cell_type": "code",
   "execution_count": null,
   "metadata": {},
   "outputs": [],
   "source": [
    "arr2 = np.array([10, 20, 30], dtype=int)\n",
    "arr2"
   ]
  },
  {
   "cell_type": "code",
   "execution_count": null,
   "metadata": {},
   "outputs": [],
   "source": [
    "res = arr1 + arr2\n",
    "res"
   ]
  },
  {
   "cell_type": "code",
   "execution_count": null,
   "metadata": {},
   "outputs": [],
   "source": [
    "res.dtype"
   ]
  },
  {
   "cell_type": "markdown",
   "metadata": {},
   "source": [
    "<div class=\"alert alert-info\">\n",
    "\n",
    "**Note:** \n",
    "    \n",
    "In some cases, depending on the application and its requirements, it is essential to create arrays with data type appropriately set to right data type. The default data type is `float`:\n",
    "</div>\n",
    "\n",
    "\n",
    "    \n"
   ]
  },
  {
   "cell_type": "code",
   "execution_count": null,
   "metadata": {},
   "outputs": [],
   "source": [
    "np.sqrt(np.array([0, -1, 2]))"
   ]
  },
  {
   "cell_type": "code",
   "execution_count": null,
   "metadata": {},
   "outputs": [],
   "source": [
    "np.sqrt(np.array([0, -1, 2], dtype=complex))"
   ]
  },
  {
   "cell_type": "markdown",
   "metadata": {},
   "source": [
    "Here, using the `np.sqrt` function to compute the square root of each element in\n",
    "an array gives different results depending on the data type of the array. Only when the data type of the array is complex is the square root of `–1` resulting in the imaginary unit (denoted as `1j` in Python)."
   ]
  },
  {
   "cell_type": "markdown",
   "metadata": {},
   "source": [
    "### Memory layout of multi-dimensional arrays"
   ]
  },
  {
   "cell_type": "markdown",
   "metadata": {},
   "source": [
    "Multidimensional arrays are stored as contiguous data in memory. There's freedom of choice in how to arrange the array elements in this memory segment. Consider the case of a two-dimensional array, containing rows and columns:\n",
    "\n",
    "- One possible way to store this array as a consecutive sequence of values is to store the rows after each other, and another equally valid approach is to store the columns one after another. \n",
    "\n",
    "- The former is called **row-major** format and the latter is **column-major** format. \n"
   ]
  },
  {
   "cell_type": "markdown",
   "metadata": {},
   "source": [
    " Memory Layout                          | Format\n",
    ":---------------------------------------:|:--------------:\n",
    "![](../assets/images/row-major.jpg)    | row-major\n",
    "![](../assets/images/column-major.jpg)    | column-major"
   ]
  },
  {
   "cell_type": "markdown",
   "metadata": {},
   "source": [
    "- Whether to use row-major or column-major is a matter of conventions, and row-major format is used, for example, in the C programming language, whereas Fortran uses the column-major format. \n",
    "\n",
    "- A NumPy array can be specified to be stored in row-major format, using the keyword argument `order='C'`, and the column-major format, using the keyword argument `order='F'`, when the array is created or reshaped. \n",
    "\n",
    "- The default format is row-major. \n",
    "\n",
    "- The `'C'` or `'F'` ordering of NumPy array is particularly relevant when NumPy arrays are used in interfaces with software written in C and Fortran, which is often required when working with numerical computing with Python. \n",
    "\n",
    "- Row-major and column-major ordering are special cases of strategies for mapping\n",
    "the index used to address an element, to the offset for the element in the array’s memory segment. \n",
    "\n",
    "- In general, the NumPy array attribute `ndarray.strides` defines exactly how this mapping is done. \n",
    "\n",
    "- The strides attribute is a tuple of the same length as the number of axes (dimensions) of the array. Each value in strides is the factor by which the index for the corresponding axis is multiplied when calculating the memory offset (in bytes) for a given index expression.\n",
    "\n",
    "\n",
    "Let's see how this looks:"
   ]
  },
  {
   "cell_type": "code",
   "execution_count": null,
   "metadata": {},
   "outputs": [],
   "source": [
    "arrc = np.array([[1, 2, 3], [11, 12, 13], [21, 22, 23]], dtype='uint8', order='C')\n",
    "arrf = np.array([[1, 2, 3], [11, 12, 13], [21, 22, 23]], dtype='uint8', order='F')"
   ]
  },
  {
   "cell_type": "code",
   "execution_count": null,
   "metadata": {},
   "outputs": [],
   "source": [
    "arrc"
   ]
  },
  {
   "cell_type": "code",
   "execution_count": null,
   "metadata": {},
   "outputs": [],
   "source": [
    "arrc.itemsize # Each item uses 1 byte because the data type is uint8"
   ]
  },
  {
   "cell_type": "markdown",
   "metadata": {},
   "source": [
    "The strides attribute of this array is therefore `(1x3, 1x1) = (3, 1)`, because each increment of `m=3` in `A[n, m]` increases the memory offset with one item or 1 byte. Likewise, each increment of n increases the memory offset with three items or 3 bytes (because the second dimension of the array has lenght 3)"
   ]
  },
  {
   "cell_type": "code",
   "execution_count": null,
   "metadata": {},
   "outputs": [],
   "source": [
    "arrc.strides"
   ]
  },
  {
   "cell_type": "code",
   "execution_count": null,
   "metadata": {},
   "outputs": [],
   "source": [
    "'  '.join(str(x) for x in np.nditer(arrc))"
   ]
  },
  {
   "cell_type": "markdown",
   "metadata": {},
   "source": [
    "In `\"C\"` order, elements of rows are contiguous, as expected. Let's try Fortran layout now:"
   ]
  },
  {
   "cell_type": "code",
   "execution_count": null,
   "metadata": {},
   "outputs": [],
   "source": [
    "arrf"
   ]
  },
  {
   "cell_type": "code",
   "execution_count": null,
   "metadata": {},
   "outputs": [],
   "source": [
    "arrf.strides"
   ]
  },
  {
   "cell_type": "code",
   "execution_count": null,
   "metadata": {},
   "outputs": [],
   "source": [
    "'  '.join(str(x) for x in np.nditer(arrf))"
   ]
  },
  {
   "cell_type": "markdown",
   "metadata": {},
   "source": [
    "- Using strides to describe the mapping of array index to array memory offset is clever because it can be used to describe different mapping strategies, and many common operations on arrays, such as for example the transpose, can be implemented by simply changing the strides attribute, which can eliminate the need for moving data around in the memory. \n",
    "\n",
    "- Operations that only require changing the strides attribute result in new ndarray objects that refer to the same data as the original array. Such arrays are called views. \n",
    "\n",
    "- For efficiency, NumPy strives to create views rather than copies when applying operations on arrays. This is generally a good thing, but it is important to be aware of that some array operations result in views rather than new independent arrays, because modifying their data also modifies the data of the original array."
   ]
  },
  {
   "cell_type": "markdown",
   "metadata": {},
   "source": [
    "## Creating Arrays"
   ]
  },
  {
   "cell_type": "markdown",
   "metadata": {},
   "source": [
    "In the previous section, we looked at NumPy’s basic data structure for representing arrays, the ndarray class, and we looked at the basic attributes of this class. In this section we focus on functions from the NumPy library that can be used to create ndarray instances."
   ]
  },
  {
   "cell_type": "markdown",
   "metadata": {},
   "source": [
    "NumPy provides a set of functions  generate ndarrays depending on their properties and the applications they are used for. Throughout this tutorial you'll discover that these features will be useful. "
   ]
  },
  {
   "cell_type": "markdown",
   "metadata": {},
   "source": [
    "### Arrays Created from Lists and Other Array-like Objects"
   ]
  },
  {
   "cell_type": "markdown",
   "metadata": {},
   "source": [
    "- Using the `np.array()` function, NumPy arrays can be constructed from explicit Python lists, iterable expressions and other array-like objects (such as other `ndarray` instances)."
   ]
  },
  {
   "cell_type": "code",
   "execution_count": null,
   "metadata": {},
   "outputs": [],
   "source": [
    "data = np.array([1, 3, 9]) # Create a one-dimensional array from a Python list\n",
    "data"
   ]
  },
  {
   "cell_type": "code",
   "execution_count": null,
   "metadata": {},
   "outputs": [],
   "source": [
    "data.ndim"
   ]
  },
  {
   "cell_type": "code",
   "execution_count": null,
   "metadata": {},
   "outputs": [],
   "source": [
    "data.shape"
   ]
  },
  {
   "cell_type": "code",
   "execution_count": null,
   "metadata": {},
   "outputs": [],
   "source": [
    "data = np.array([[1, 2], [5, 7]]) # Create 2D array using nested Python lists\n",
    "data"
   ]
  },
  {
   "cell_type": "code",
   "execution_count": null,
   "metadata": {},
   "outputs": [],
   "source": [
    "data.ndim"
   ]
  },
  {
   "cell_type": "code",
   "execution_count": null,
   "metadata": {},
   "outputs": [],
   "source": [
    "data.shape"
   ]
  },
  {
   "cell_type": "markdown",
   "metadata": {},
   "source": [
    "### Arrays Filled with Constant Values"
   ]
  },
  {
   "cell_type": "markdown",
   "metadata": {},
   "source": [
    "- The functions `np.zeros()` and `np.ones()` create and return arrays filled with zeros and ones respectively. \n",
    "- They take, as first argument, an integer or a tuple that describes the number of elements along each dimension of the array\n"
   ]
  },
  {
   "cell_type": "code",
   "execution_count": null,
   "metadata": {},
   "outputs": [],
   "source": [
    "np.zeros((2, 3))"
   ]
  },
  {
   "cell_type": "code",
   "execution_count": null,
   "metadata": {},
   "outputs": [],
   "source": [
    "np.ones(5)"
   ]
  },
  {
   "cell_type": "markdown",
   "metadata": {},
   "source": [
    "- Like other array-generating functions, these functions also accept an optional keyword argument that specifies the data type for the elements in the array.\n",
    "- By default, the data type is `float64`:"
   ]
  },
  {
   "cell_type": "code",
   "execution_count": null,
   "metadata": {},
   "outputs": [],
   "source": [
    "data = np.ones(10)\n",
    "data"
   ]
  },
  {
   "cell_type": "code",
   "execution_count": null,
   "metadata": {},
   "outputs": [],
   "source": [
    "data.dtype"
   ]
  },
  {
   "cell_type": "code",
   "execution_count": null,
   "metadata": {},
   "outputs": [],
   "source": [
    "data = np.ones(5, dtype=complex)\n",
    "data"
   ]
  },
  {
   "cell_type": "code",
   "execution_count": null,
   "metadata": {},
   "outputs": [],
   "source": [
    "data.dtype"
   ]
  },
  {
   "cell_type": "markdown",
   "metadata": {},
   "source": [
    "- Arrays filled with an arbitrary constant value can be generated by first creating an array filled with ones and then multiplying the array with the desired fill value. \n",
    "- However, NumPy also provides the function `np.full()` that does exactly this in one step:"
   ]
  },
  {
   "cell_type": "code",
   "execution_count": null,
   "metadata": {},
   "outputs": [],
   "source": [
    "x = 10.5 * np.ones(5)\n",
    "x"
   ]
  },
  {
   "cell_type": "code",
   "execution_count": null,
   "metadata": {},
   "outputs": [],
   "source": [
    "y = np.full(shape=5, fill_value=10.5)\n",
    "y"
   ]
  },
  {
   "cell_type": "markdown",
   "metadata": {},
   "source": [
    "- An already created array can also be filled with constant values using the `np.fill()` function, which takes an array and a value as arguments, and set all elements in the array to the given value:"
   ]
  },
  {
   "cell_type": "code",
   "execution_count": null,
   "metadata": {},
   "outputs": [],
   "source": [
    "x1 = np.empty(3) # generates an array with uninitialized values, of the given size\n",
    "x1"
   ]
  },
  {
   "cell_type": "code",
   "execution_count": null,
   "metadata": {},
   "outputs": [],
   "source": [
    "x1.fill(3.0)"
   ]
  },
  {
   "cell_type": "code",
   "execution_count": null,
   "metadata": {},
   "outputs": [],
   "source": [
    "x1"
   ]
  },
  {
   "cell_type": "code",
   "execution_count": null,
   "metadata": {},
   "outputs": [],
   "source": [
    "x2 = np.full(shape=5, fill_value=3.0)\n",
    "x2"
   ]
  },
  {
   "cell_type": "markdown",
   "metadata": {},
   "source": [
    "### Arrays with Incremental Sequences"
   ]
  },
  {
   "cell_type": "markdown",
   "metadata": {},
   "source": [
    "In numerical computing it is very common to require arrays with evenly spaced values between a starting value and ending value. NumPy provides two similar functions to create such arrays: `np.arange()` and `np.linspace`"
   ]
  },
  {
   "cell_type": "code",
   "execution_count": null,
   "metadata": {},
   "outputs": [],
   "source": [
    "np.arange(start=0.0, stop=10, step=1)"
   ]
  },
  {
   "cell_type": "code",
   "execution_count": null,
   "metadata": {},
   "outputs": [],
   "source": [
    "np.linspace(start=0, stop=10, num=11)"
   ]
  },
  {
   "cell_type": "markdown",
   "metadata": {},
   "source": [
    "<div class=\"alert alert-info\">\n",
    "\n",
    "**Note:** \n",
    "    \n",
    "- `np.arange()` does not include the end value, while by default `np.linspace()` does (although this behavior can be changed using the optional `endpoint` keyword argument).\n",
    "    \n",
    "- Whether to use `np.arange()` or `np.linspace()` is mostly a matter of personal preference, but it is generally recommended to use `np.linspace()` whenever the increment is a noninteger. \n",
    "</div>\n"
   ]
  },
  {
   "cell_type": "markdown",
   "metadata": {},
   "source": [
    "### Arrays Filled with Logarithmic Sequences"
   ]
  },
  {
   "cell_type": "markdown",
   "metadata": {},
   "source": [
    "The function `np.logspace()` is similar to `np.linspace()`, but the increments between the elements in the array are logarithmically distributed, and the first two arguments, for the start and end values, are the powers of the optional `base` keyword argument (which defaults to 10):"
   ]
  },
  {
   "cell_type": "code",
   "execution_count": null,
   "metadata": {},
   "outputs": [],
   "source": [
    "np.logspace(start=0, stop=2, num=5) # Generate 5 points between 10**0= 1 and 10**2=100"
   ]
  },
  {
   "cell_type": "markdown",
   "metadata": {},
   "source": [
    "### Meshgrid Arrays"
   ]
  },
  {
   "cell_type": "markdown",
   "metadata": {},
   "source": [
    "- Multidimensional coordinate grids can be generated using the function `np.meshgrid()`.\n",
    "- Given two one-dimensional coordinate arrays, we can generate two-dimensional coordinate arrays using the `np.meshgrid()` function:"
   ]
  },
  {
   "cell_type": "code",
   "execution_count": null,
   "metadata": {},
   "outputs": [],
   "source": [
    "# 1-D arrays representing the coordinates of a grid\n",
    "x = np.array([-10, 0, 10])\n",
    "y = np.array([0, 50, 270])"
   ]
  },
  {
   "cell_type": "code",
   "execution_count": null,
   "metadata": {},
   "outputs": [],
   "source": [
    "X, Y = np.meshgrid(x, y)\n",
    "X"
   ]
  },
  {
   "cell_type": "code",
   "execution_count": null,
   "metadata": {},
   "outputs": [],
   "source": [
    "Y"
   ]
  },
  {
   "cell_type": "markdown",
   "metadata": {},
   "source": [
    "- It is also possible to generate higher-dimensional coordinate arrays by passing\n",
    "more arrays as argument to the `np.meshgrid()` function"
   ]
  },
  {
   "cell_type": "markdown",
   "metadata": {},
   "source": [
    "### Creating Uninitialized Arrays"
   ]
  },
  {
   "cell_type": "markdown",
   "metadata": {},
   "source": [
    "- To create an array of specific size and data type, but without initializing the elements of the array to any particular values, we can use the function `np.empty()`\n",
    "\n",
    "- The advantage of this function, for example, instead of`np.zeros`, is that we can avoid the initiation step. If all elements are guaranteed to be initialized later in the code, this can save a little bit of time, especially when working with large arrays:"
   ]
  },
  {
   "cell_type": "code",
   "execution_count": null,
   "metadata": {},
   "outputs": [],
   "source": [
    "np.empty(shape=5, dtype=np.float64)"
   ]
  },
  {
   "cell_type": "markdown",
   "metadata": {},
   "source": [
    "<div class=\"alert alert-info\">\n",
    "\n",
    "**Note:** \n",
    "    \n",
    "- There's no guarantee that elements generated by `np.empty()` have any particular values. For this reason it is important that all values are explicitly assigned before the array is used; otherwise unpredictable errors are likely to arise. \n",
    "</div>\n"
   ]
  },
  {
   "cell_type": "markdown",
   "metadata": {},
   "source": [
    "### Creating Arrays with Properties of Other Arrays"
   ]
  },
  {
   "cell_type": "markdown",
   "metadata": {},
   "source": [
    "It is often necessary to create new arrays that share properties, such as shape and ata type with another array. NumPy provides a family of functions for this purpose:\n",
    "    \n",
    "- `np.ones_like()`\n",
    "- `np.zeros_like()`\n",
    "- `np.full_like()`\n",
    "- `np.empty_like()`\n",
    "\n",
    "\n",
    "A typical use-case is a function that takes arrays of unspecified type and size as arguments and requires working with arrays of the same size and type. "
   ]
  },
  {
   "cell_type": "code",
   "execution_count": null,
   "metadata": {},
   "outputs": [],
   "source": [
    "data = np.array([[2, 3, 8], [6, 8, 10]], dtype=np.float32)\n",
    "data"
   ]
  },
  {
   "cell_type": "code",
   "execution_count": null,
   "metadata": {},
   "outputs": [],
   "source": [
    "np.ones_like(data)"
   ]
  },
  {
   "cell_type": "code",
   "execution_count": null,
   "metadata": {},
   "outputs": [],
   "source": [
    "np.zeros_like(data)"
   ]
  },
  {
   "cell_type": "code",
   "execution_count": null,
   "metadata": {},
   "outputs": [],
   "source": [
    "np.full_like(data, fill_value=5)"
   ]
  },
  {
   "cell_type": "markdown",
   "metadata": {},
   "source": [
    "### Creating Matrix Arrays"
   ]
  },
  {
   "cell_type": "markdown",
   "metadata": {},
   "source": [
    "NumPy provides functions for generating commonly used matrixes. One of these functions is `np.identity()` which generates a square matrix with oens on the diagonal and zeros elsewhere:"
   ]
  },
  {
   "cell_type": "code",
   "execution_count": null,
   "metadata": {},
   "outputs": [],
   "source": [
    "np.identity(5)"
   ]
  },
  {
   "cell_type": "markdown",
   "metadata": {},
   "source": [
    "The similar function `np.eye()` generates matrices with ones on a diagonal (optionally offset):\n"
   ]
  },
  {
   "cell_type": "code",
   "execution_count": null,
   "metadata": {},
   "outputs": [],
   "source": [
    "np.eye(N=4, M=4, k=1)"
   ]
  },
  {
   "cell_type": "code",
   "execution_count": null,
   "metadata": {},
   "outputs": [],
   "source": [
    "np.eye(N=4, M=4, k=-1)"
   ]
  },
  {
   "cell_type": "markdown",
   "metadata": {},
   "source": [
    "To construct a matrix with an arbitrary one-dimensional array on the diagonal, we\n",
    "can use the `np.diag()` function (which also takes the optional keyword argument k to specify an offset from the diagonal):"
   ]
  },
  {
   "cell_type": "code",
   "execution_count": null,
   "metadata": {},
   "outputs": [],
   "source": [
    "d = np.arange(0, 20, 5)\n",
    "d"
   ]
  },
  {
   "cell_type": "code",
   "execution_count": null,
   "metadata": {},
   "outputs": [],
   "source": [
    "np.diag(v=d)"
   ]
  },
  {
   "cell_type": "markdown",
   "metadata": {},
   "source": [
    "## Indexing and Slicing"
   ]
  },
  {
   "cell_type": "markdown",
   "metadata": {},
   "source": [
    "- Elements and subarrays of NumPy arrays are accessed using the standard square bracket notation that is also used with Python lists. \n",
    "- Within the square bracket, a variety of different index formats are used for different types of element selection.\n",
    "- In general, the expression within the bracket is a tuple, where each item in the tuple is a specification of which elements to select from each axis/dimensions of the array.\n",
    "\n",
    "\n",
    "**Examples of Array Indexing and Slicing Expressions**\n",
    "\n",
    "\n",
    "| Expression           | Description                                                                                                                                                                |\n",
    "|----------------------|----------------------------------------------------------------------------------------------------------------------------------------------------------------------------|\n",
    "| `a[m]`               | Select element at index `m`, where m is an integer (start counting form 0).                                                                                                |\n",
    "| `a[-m]`              | Select the `nth` element from the end of the list, where `n` is an integer. The  last element in the list is addressed as -1, the second to last element as -2, and so on. |\n",
    "| `a[m:n]`             | Select elements with index starting at `m` and ending at `n-1` (`m` and `n` are integers).                                                                                 |\n",
    "| `a[:]` or `a[0:-1]`  | Select all elements in the given axis.                                                                                                                                     |\n",
    "| `a[:n]`              | Select elements starting with index 0 and going up to index `n-1` (integer)                                                                                                |\n",
    "| `a[m:]` or `a[m:-1]` | Select elements starting with index `m` (integer) and going up to the last element in the array.                                                                           |\n",
    "| `a[m:n:p]`           | Select elements with index `m` through `n` (exclusive), with increment `p`.                                                                                                |\n",
    "| `a[::-1]`            | Select all the elements, in reverse order.                                                                                                                                 |"
   ]
  },
  {
   "cell_type": "markdown",
   "metadata": {},
   "source": [
    "### One-Dimensional Arrays"
   ]
  },
  {
   "cell_type": "markdown",
   "metadata": {},
   "source": [
    "Along a single axis, integers are used to select single elements, and so-called slices are used to select ranges and sequences of elements. Positive integers are used to index elements from the beginning of the array (index starts at 0), and negative integers are used to index elements from the end of the array, where the last element is indexed with –1, the second to last element with –2, and so on."
   ]
  },
  {
   "cell_type": "code",
   "execution_count": null,
   "metadata": {},
   "outputs": [],
   "source": [
    "data = np.arange(0, 8)\n",
    "data"
   ]
  },
  {
   "cell_type": "code",
   "execution_count": null,
   "metadata": {},
   "outputs": [],
   "source": [
    "data[0] # First element"
   ]
  },
  {
   "cell_type": "code",
   "execution_count": null,
   "metadata": {},
   "outputs": [],
   "source": [
    "data[-1] # last element"
   ]
  },
  {
   "cell_type": "code",
   "execution_count": null,
   "metadata": {},
   "outputs": [],
   "source": [
    "data[4] # fifth element, at index 4"
   ]
  },
  {
   "cell_type": "code",
   "execution_count": null,
   "metadata": {},
   "outputs": [],
   "source": [
    "data[1:-1] # second-to-last"
   ]
  },
  {
   "cell_type": "code",
   "execution_count": null,
   "metadata": {},
   "outputs": [],
   "source": [
    "data[1:-1:2] # second-to-last, selecting every second element"
   ]
  },
  {
   "cell_type": "code",
   "execution_count": null,
   "metadata": {},
   "outputs": [],
   "source": [
    "data[:5] # select first five"
   ]
  },
  {
   "cell_type": "code",
   "execution_count": null,
   "metadata": {},
   "outputs": [],
   "source": [
    "data[-5:] # last five element"
   ]
  },
  {
   "cell_type": "code",
   "execution_count": null,
   "metadata": {},
   "outputs": [],
   "source": [
    "data[::-2] # reverse the array and select only every second value"
   ]
  },
  {
   "cell_type": "markdown",
   "metadata": {},
   "source": [
    "### Multidimensional Arrays"
   ]
  },
  {
   "cell_type": "markdown",
   "metadata": {},
   "source": [
    "With multidimensional arrays, elements selections like those introduced in the previous section can be applied on each axis/dimension. The result is a reduced array where each element matches the given selection rules"
   ]
  },
  {
   "cell_type": "code",
   "execution_count": null,
   "metadata": {},
   "outputs": [],
   "source": [
    "f = lambda m, n: n + 10 * m"
   ]
  },
  {
   "cell_type": "code",
   "execution_count": null,
   "metadata": {},
   "outputs": [],
   "source": [
    "data = np.fromfunction(function=f, shape=(6, 6), dtype=np.int32)\n",
    "data"
   ]
  },
  {
   "cell_type": "code",
   "execution_count": null,
   "metadata": {},
   "outputs": [],
   "source": [
    "data[:, 1] # second column"
   ]
  },
  {
   "cell_type": "code",
   "execution_count": null,
   "metadata": {},
   "outputs": [],
   "source": [
    "data[1, :] # second row"
   ]
  },
  {
   "cell_type": "markdown",
   "metadata": {},
   "source": [
    "- By applying a slice on each of the array axes, we xan extract subarrays:"
   ]
  },
  {
   "cell_type": "code",
   "execution_count": null,
   "metadata": {},
   "outputs": [],
   "source": [
    "data[:3, :3] # Upper half diagonal block matrix"
   ]
  },
  {
   "cell_type": "code",
   "execution_count": null,
   "metadata": {},
   "outputs": [],
   "source": [
    "data[3:, :3] # lower left off-diagonal block matrix"
   ]
  },
  {
   "cell_type": "markdown",
   "metadata": {},
   "source": [
    "- With element spacing other that 1, subarrays made up from nonconsecutive elements can be extracted:"
   ]
  },
  {
   "cell_type": "code",
   "execution_count": null,
   "metadata": {},
   "outputs": [],
   "source": [
    "data[::2, ::2] # every second element starting from 0, 0"
   ]
  },
  {
   "cell_type": "code",
   "execution_count": null,
   "metadata": {},
   "outputs": [],
   "source": [
    "data[1::2, 1::3] # every second and third element starting from 1, 1"
   ]
  },
  {
   "cell_type": "markdown",
   "metadata": {},
   "source": [
    "This ability to extract subsets of data from a multidimensional array is a simple but very powerful feature."
   ]
  },
  {
   "cell_type": "markdown",
   "metadata": {},
   "source": [
    "### Copies and Views of Objects"
   ]
  },
  {
   "cell_type": "markdown",
   "metadata": {},
   "source": [
    "- Subarrays that are extracted from arrays using slice operations are alternative **views** of the same underlying array data. This means that they are arrays that refer to the same data in memory as the original array, but with a different `strides` configuration. \n",
    "- When elements in a view are assigned new values, the values of the original array are therefore also updated:"
   ]
  },
  {
   "cell_type": "code",
   "execution_count": null,
   "metadata": {},
   "outputs": [],
   "source": [
    "data = np.fromfunction(function=f, shape=(6, 6), dtype=np.int32)\n",
    "data"
   ]
  },
  {
   "cell_type": "code",
   "execution_count": null,
   "metadata": {},
   "outputs": [],
   "source": [
    "x = data[1:5, 1:5]\n",
    "x"
   ]
  },
  {
   "cell_type": "code",
   "execution_count": null,
   "metadata": {},
   "outputs": [],
   "source": [
    "x[:, :] = 100\n",
    "data"
   ]
  },
  {
   "cell_type": "markdown",
   "metadata": {},
   "source": [
    "- Here, assigning new values to the elements in an array B, which is created from the array A, also modifies the values in A (since both arrays refer to the same data in the memory). \n",
    "- The fact that extracting subarrays results in views rather than new independent arrays eliminates the need for copying data and improves performance. \n",
    "- When a copy rather than a view is needed, the view can be copied explicitly by using the copy method of the ndarray instance."
   ]
  },
  {
   "cell_type": "code",
   "execution_count": null,
   "metadata": {},
   "outputs": [],
   "source": [
    "y = x[1:3, 1:3].copy()\n",
    "y"
   ]
  },
  {
   "cell_type": "code",
   "execution_count": null,
   "metadata": {},
   "outputs": [],
   "source": [
    "y[:, :] = 1 # does not affect x since y is a copy of the view x[1:3, 1:3]\n",
    "y"
   ]
  },
  {
   "cell_type": "code",
   "execution_count": null,
   "metadata": {},
   "outputs": [],
   "source": [
    "x"
   ]
  },
  {
   "cell_type": "markdown",
   "metadata": {},
   "source": [
    "### Fancy Indexing and Boolean-Valued Index"
   ]
  },
  {
   "cell_type": "markdown",
   "metadata": {},
   "source": [
    "NumPy provides another convenient method to index arrays, called **fancy indexing**. \n",
    "\n",
    "- With fancy indexing, an array can be indexed with another NumPy array, a Python list, or a sequence of integers, whose values select elements in the indexed array.\n",
    "- Fancy indexing requires that the elements in the array or list used for indexing are integers. "
   ]
  },
  {
   "cell_type": "code",
   "execution_count": null,
   "metadata": {},
   "outputs": [],
   "source": [
    "data = np.linspace(0, 1, 11)\n",
    "data"
   ]
  },
  {
   "cell_type": "code",
   "execution_count": null,
   "metadata": {},
   "outputs": [],
   "source": [
    "data[np.array([0, 2, 4])]"
   ]
  },
  {
   "cell_type": "code",
   "execution_count": null,
   "metadata": {},
   "outputs": [],
   "source": [
    "data[[0, 2, 4]]"
   ]
  },
  {
   "cell_type": "markdown",
   "metadata": {},
   "source": [
    "- Another variant of indexing NumPy arrays is to use Boolean-valued index arrays. In this case, each element indicates whether or not to select the element from the list with the corresponding index. This index method is handy when filtering out elements from an array"
   ]
  },
  {
   "cell_type": "code",
   "execution_count": null,
   "metadata": {},
   "outputs": [],
   "source": [
    "data > 0.6"
   ]
  },
  {
   "cell_type": "code",
   "execution_count": null,
   "metadata": {},
   "outputs": [],
   "source": [
    "data[data > 0.6]"
   ]
  },
  {
   "cell_type": "markdown",
   "metadata": {},
   "source": [
    "Unlike arrays created by using slices, the arrays returned using fancy indexing and Boolean-valued indexing **are not views but rather new independent arrays**. Nonetheless, it is possible to assign values to elements selected using fancy indexing:"
   ]
  },
  {
   "cell_type": "code",
   "execution_count": null,
   "metadata": {},
   "outputs": [],
   "source": [
    "data = np.arange(10)\n",
    "data"
   ]
  },
  {
   "cell_type": "code",
   "execution_count": null,
   "metadata": {},
   "outputs": [],
   "source": [
    "indices = [3, 5, 7]"
   ]
  },
  {
   "cell_type": "code",
   "execution_count": null,
   "metadata": {},
   "outputs": [],
   "source": [
    "x = data[indices]\n",
    "x"
   ]
  },
  {
   "cell_type": "code",
   "execution_count": null,
   "metadata": {},
   "outputs": [],
   "source": [
    "x[0] = -1 # this does not affect data\n",
    "data"
   ]
  },
  {
   "cell_type": "code",
   "execution_count": null,
   "metadata": {},
   "outputs": [],
   "source": [
    "data[indices] = -1 # this affects data\n",
    "data"
   ]
  },
  {
   "cell_type": "code",
   "execution_count": null,
   "metadata": {},
   "outputs": [],
   "source": [
    "data = np.arange(10)\n",
    "x = data[data > 5]\n",
    "x"
   ]
  },
  {
   "cell_type": "code",
   "execution_count": null,
   "metadata": {},
   "outputs": [],
   "source": [
    "x[0] = -1 # this does not affect data\n",
    "data"
   ]
  },
  {
   "cell_type": "code",
   "execution_count": null,
   "metadata": {},
   "outputs": [],
   "source": [
    "data[data > 5] = -1 # this alters data\n",
    "data"
   ]
  },
  {
   "cell_type": "markdown",
   "metadata": {},
   "source": [
    "## Reshaping and Resizing"
   ]
  },
  {
   "cell_type": "markdown",
   "metadata": {},
   "source": [
    "When working with data in array form, it is often useful to rearrange arrays and alter teh way they are interpreted. For example, an `NxN` matrix array could be rearranged into a vector of length $N^2$, or a set of one-dimensional arrays could be concatenated together or stacked next to each other to form a matrix. \n",
    "\n",
    "\n",
    "**Summary of NumPy Functions for Manipulating the Dimensions and the Shape of Arrays**\n",
    "\n",
    "\n",
    "\n",
    "| Function/Method                                           | Description                                                                                                                                                       |\n",
    "|-----------------------------------------------------------|-------------------------------------------------------------------------------------------------------------------------------------------------------------------|\n",
    "| `np.reshape`, `np.ndarray.reshape`                        | Reshape an N-dimensional array. The total number of elements must remain the same.                                                                                |\n",
    "| `np.ndarray.flatten`                                      | Creates a copy of an N-dimensional array, and reinterpret it as a one-dimensional array (i.e., all  dimensions are collapsed into one).                           |\n",
    "| `np.ravel`, `np.ndarray.ravel`                            | Create a view (if possible, otherwise a copy) of an N-dimensional array in  which it is interpreted as a one-dimensional array.                                   |\n",
    "| `np.squeeze`                                              | Removes axes with lenght 1.                                                                                                                                       |\n",
    "| `np.expand_dims`, `np.newaxis`                            | Add a new axis/dimension of length 1 to an array, where `np.newaxis` is used with array indexing.                                                                 |\n",
    "| `np.transpose` or  `np.ndarray.transpose`, `np.ndarray.T` | Transpose the array. The transpose operation corresponds to reversing (or more generally, permuting) the axes of the array.                                       |\n",
    "| `np.hstack`                                               | Stacks a list of arrays horizontally (along axis 1): for example, given a list of column vectors, appends the columns to form a matrix.                           |\n",
    "| `np.vstack`                                               | Stacks a list of arrays vertically (along axis 0): for example, given a  list of row vectors, appends the rows to form a matrix.                                  |\n",
    "| `np.dstack`                                               | Stacks arrays depth-wise (along axis 2).                                                                                                                          |\n",
    "| `np.concatenate`                                          | Creates a new array by appending arrays after each other, along a  given axis.                                                                                    |\n",
    "| `np.resize`                                               | Resizes an array. Creates a new copy of the original array, with the  requested size. If necessary, the original array will be repeated to fill up the new array. |\n",
    "| `np.append`                                               | Appends an element to an array. Creates a new copy of the array.                                                                                                  |\n",
    "| `np.insert`                                               | Inserts a new element at a given position. Creates a new copy of the array.                                                                                       |\n",
    "| `np.delete`                                               | Deletes an element at a given position. Creates a new copy of the array.                                                                                          |"
   ]
  },
  {
   "cell_type": "markdown",
   "metadata": {},
   "source": [
    "- Reshaping an array does not require modifying the underlying array data; it only changes in how the data is interpreted, by redefining the array's **strides** attribute."
   ]
  },
  {
   "cell_type": "code",
   "execution_count": null,
   "metadata": {},
   "outputs": [],
   "source": [
    "data = np.array([[10, 3], [5, 8]])\n",
    "data"
   ]
  },
  {
   "cell_type": "code",
   "execution_count": null,
   "metadata": {},
   "outputs": [],
   "source": [
    "data.strides"
   ]
  },
  {
   "cell_type": "code",
   "execution_count": null,
   "metadata": {},
   "outputs": [],
   "source": [
    "data.data"
   ]
  },
  {
   "cell_type": "code",
   "execution_count": null,
   "metadata": {},
   "outputs": [],
   "source": [
    "x = np.reshape(a=data, newshape=(1, 4))\n",
    "x"
   ]
  },
  {
   "cell_type": "code",
   "execution_count": null,
   "metadata": {},
   "outputs": [],
   "source": [
    "data.reshape(4)"
   ]
  },
  {
   "cell_type": "code",
   "execution_count": null,
   "metadata": {},
   "outputs": [],
   "source": [
    "x.strides"
   ]
  },
  {
   "cell_type": "markdown",
   "metadata": {},
   "source": [
    "- Note that reshaping an array produces a view of the array, and if an independent copy of the array is needed, the view has to be copied explicitly (e.g., using `np.copy`).\n",
    "67"
   ]
  },
  {
   "cell_type": "code",
   "execution_count": null,
   "metadata": {},
   "outputs": [],
   "source": [
    "x[0, 1] = -100\n",
    "x"
   ]
  },
  {
   "cell_type": "code",
   "execution_count": null,
   "metadata": {},
   "outputs": [],
   "source": [
    "data"
   ]
  },
  {
   "cell_type": "markdown",
   "metadata": {},
   "source": [
    "- The `np.ravel()` is a special case of reshape, which collapses all dimensions of an array and returns a flattened one-dimensional array with a length that corresponds to the total number of elements in the original array. "
   ]
  },
  {
   "cell_type": "code",
   "execution_count": null,
   "metadata": {},
   "outputs": [],
   "source": [
    "data"
   ]
  },
  {
   "cell_type": "code",
   "execution_count": null,
   "metadata": {},
   "outputs": [],
   "source": [
    "data.flatten()"
   ]
  },
  {
   "cell_type": "code",
   "execution_count": null,
   "metadata": {},
   "outputs": [],
   "source": [
    "data.flatten().shape"
   ]
  },
  {
   "cell_type": "markdown",
   "metadata": {},
   "source": [
    "- While `np.ravel()` and `np.flatten()` collapse the axes of an array into a one-dimensional array, it is also possible to introduce new axes into an array, either by using `np.reshape` or, when adding new empty axes, using indexing notation and the `np.newaxis` keyword at the place of a new axis. "
   ]
  },
  {
   "cell_type": "code",
   "execution_count": null,
   "metadata": {},
   "outputs": [],
   "source": [
    "data = np.arange(8)\n",
    "data"
   ]
  },
  {
   "cell_type": "code",
   "execution_count": null,
   "metadata": {},
   "outputs": [],
   "source": [
    "column = data[:, np.newaxis]\n",
    "column"
   ]
  },
  {
   "cell_type": "code",
   "execution_count": null,
   "metadata": {},
   "outputs": [],
   "source": [
    "row = data[np.newaxis, :]\n",
    "row"
   ]
  },
  {
   "cell_type": "code",
   "execution_count": null,
   "metadata": {},
   "outputs": [],
   "source": [
    "data.shape, column.shape, row.shape"
   ]
  },
  {
   "cell_type": "markdown",
   "metadata": {},
   "source": [
    "- The function `np.expand_dims` can also be used to add new dimensions to an array, and in the preceding example, the expression `data[:, np.newaxis]` is equivalent to `np.expand_dims(data, axis=0)`. Here the `axis` argument specifies the location relative to the existing axes where the new axis is to be inserted. "
   ]
  },
  {
   "cell_type": "markdown",
   "metadata": {},
   "source": [
    "- In addition to reshaping and selecting subarrays, it is often necessary to merge arrays into bigger arrays, for example, when joining separately computed or measured data series into a higher-dimensional array, such as a matrix. For this task, NumPy provides the functions `np.vstack`, for vertical stacking of, for example, rows into a matrix, and `np.hstack` for horizontal stacking of, for example, columns into a matrix. The function `np.concatenate` provides similar functionality, but it takes a keyword argument `axis` that specifies the axis along which the arrays are to be concatenated."
   ]
  },
  {
   "cell_type": "code",
   "execution_count": null,
   "metadata": {},
   "outputs": [],
   "source": [
    "data = np.arange(5)\n",
    "data"
   ]
  },
  {
   "cell_type": "code",
   "execution_count": null,
   "metadata": {},
   "outputs": [],
   "source": [
    "np.vstack((data, data, data))"
   ]
  },
  {
   "cell_type": "markdown",
   "metadata": {},
   "source": [
    "- If we instead want to stack the arrays horizontally, to obtain a matrix where the arrays are the column vectors, we might first attempt something similar using `np.hstack`:"
   ]
  },
  {
   "cell_type": "code",
   "execution_count": null,
   "metadata": {},
   "outputs": [],
   "source": [
    "np.hstack((data, data, data))"
   ]
  },
  {
   "cell_type": "markdown",
   "metadata": {},
   "source": [
    "However, this doesn't stack the arrays horizontally, but not in the way intended here. To make `np.hstack()` treat the input arrays as columns and stack them accordingly, we need to make the input arrays two-dimensional arrays of shape `(1, 5)` rather than one-dimensional arrays of shape `(5,)` by inserting a new axis by indexing with `np.newaxis`"
   ]
  },
  {
   "cell_type": "code",
   "execution_count": null,
   "metadata": {},
   "outputs": [],
   "source": [
    "data"
   ]
  },
  {
   "cell_type": "code",
   "execution_count": null,
   "metadata": {},
   "outputs": [],
   "source": [
    "data = data[:, np.newaxis]\n",
    "data"
   ]
  },
  {
   "cell_type": "code",
   "execution_count": null,
   "metadata": {},
   "outputs": [],
   "source": [
    "np.hstack((data, data, data))"
   ]
  },
  {
   "cell_type": "markdown",
   "metadata": {},
   "source": [
    "The behavior of the functions for horizontal and vertical stacking, as well as\n",
    "concatenating arrays using `np.concatenate`, is clearest when the stacked arrays have the same number of dimensions as the final array and when the input arrays are stacked along an axis for which they have length 1."
   ]
  },
  {
   "cell_type": "markdown",
   "metadata": {},
   "source": [
    "<div class=\"alert alert-info\">\n",
    "\n",
    "**Note:** \n",
    "    \n",
    "- The number of elements in a NumPy array cannot be changed once the array has\n",
    "been created. To insert, append, and remove elements from a NumPy array, for example, using the function `np.append`, `np.insert`, and `np.delete`, a new array must be created and the data copied to it. \n",
    "- It may sometimes be tempting to use these functions to grow or shrink the size of a NumPy array, but due to the overhead of creating new arrays and copying the data, it is usually a good idea to preallocate arrays with size such that they do not later need to be resized.\n",
    "Vectorized\n",
    "</div>\n"
   ]
  },
  {
   "cell_type": "markdown",
   "metadata": {},
   "source": [
    "## Vectorized Expressions"
   ]
  },
  {
   "cell_type": "markdown",
   "metadata": {},
   "source": [
    "- The purpose of storing numerical data in arrays is to be able to process the data with concise **vectorized** expressions that represent batch operations that are applied to all elements in the arrays. \n",
    "- Efficient use of vectorized expressions eliminates teh need of many explicit **`for`** loops. This results in less verbose code, better maintainability, and higher-performing code.\n",
    "- NumPy implements functions and vectorized operations corresponding to most fundamental mathematical functions and operators. \n",
    "- Many of these functions and operations act on arrays on an elementwise basis, and binary operations require all arrays in an expression to be of compatible size. The meaning of compatible size is normally that the variables in an expression represent either scalars or arrays of the same size and shape. More generally, a binary operation involving two arrays is well defined if the arrays can be **broadcasted** into the same shape and size. "
   ]
  },
  {
   "cell_type": "markdown",
   "metadata": {},
   "source": [
    "### Broadcasting"
   ]
  },
  {
   "cell_type": "markdown",
   "metadata": {},
   "source": [
    "**Broadcasting** allows an operator or a function to act on two or more arrays to operate even if these arrays do not have the same shape. That said, not all the dimensions can be subjected to broadcasting; they must meet certain rules."
   ]
  },
  {
   "cell_type": "markdown",
   "metadata": {},
   "source": [
    "Two arrays can be subjected to broadcasting when all their dimensions are compatible, i.e., the length of each dimension must be equal or one of them must be equal to 1. If neither of these conditions is met, you get an exception that states that the two arrays are not compatible."
   ]
  },
  {
   "cell_type": "code",
   "execution_count": null,
   "metadata": {},
   "outputs": [],
   "source": [
    "x = np.arange(16).reshape(4, 4)\n",
    "y = np.arange(4)\n",
    "z = np.arange(4)[:, np.newaxis]\n",
    "x"
   ]
  },
  {
   "cell_type": "code",
   "execution_count": null,
   "metadata": {},
   "outputs": [],
   "source": [
    "y"
   ]
  },
  {
   "cell_type": "code",
   "execution_count": null,
   "metadata": {},
   "outputs": [],
   "source": [
    "z"
   ]
  },
  {
   "cell_type": "code",
   "execution_count": null,
   "metadata": {},
   "outputs": [],
   "source": [
    "x.shape"
   ]
  },
  {
   "cell_type": "code",
   "execution_count": null,
   "metadata": {},
   "outputs": [],
   "source": [
    "y.shape"
   ]
  },
  {
   "cell_type": "code",
   "execution_count": null,
   "metadata": {},
   "outputs": [],
   "source": [
    "z.shape"
   ]
  },
  {
   "cell_type": "markdown",
   "metadata": {},
   "source": [
    "To illustrate how broadcasting works, we will use two simple examples in which we will compute:\n",
    "\n",
    "- `x + y`\n",
    "- `x + z`"
   ]
  },
  {
   "cell_type": "markdown",
   "metadata": {},
   "source": [
    "In this case, you obtain three arrays with shapes:\n",
    "    \n",
    "- x: `4 x 4`\n",
    "- y: `4`\n",
    "- z: `4 x 1`"
   ]
  },
  {
   "cell_type": "markdown",
   "metadata": {},
   "source": [
    "**There are two rules of broadcasting:**\n",
    "    \n",
    "1) You must add a 1 to each missing dimension. If the compatibility rules are now satisfied, you can apply the broadcasting and move to the second rule. For example:"
   ]
  },
  {
   "cell_type": "markdown",
   "metadata": {},
   "source": [
    "- x: `4 x 4`\n",
    "- y: `1 x 4`\n",
    "- z: `4 x 1`"
   ]
  },
  {
   "cell_type": "markdown",
   "metadata": {},
   "source": [
    "The rule of compatibity is met. Then you can move to the second rule of broadcasting. \n",
    "\n",
    "2) The second rule explains how to extend the size of the smallest array so that it's the size of the biggest array, so that the element-wise function or operator is applicable. This rule asssumes that the missing elements (size, length 1) are filled with replicas of the values contained in extended sizes:"
   ]
  },
  {
   "cell_type": "markdown",
   "metadata": {},
   "source": [
    "**Applying the second broadcasting rule**\n",
    "\n",
    "![broadcasting](../assets/images/broadcasting.jpg)"
   ]
  },
  {
   "cell_type": "markdown",
   "metadata": {},
   "source": [
    "The highlighted elements represent true elements of the arrays, while the light gray-shaded elements describe the broadcasting of the elements of the array of smaller size."
   ]
  },
  {
   "cell_type": "markdown",
   "metadata": {},
   "source": [
    "\n",
    "<div class=\"alert alert-info\">\n",
    "\n",
    "**Note:** \n",
    "    \n",
    "The extra memory indicated by the gray-shaded boxes is never allocated, but it can be convenient to think about the operations as if it is.\n",
    "</div>\n",
    "\n",
    "\n"
   ]
  },
  {
   "cell_type": "markdown",
   "metadata": {},
   "source": [
    "Now that the arrays have the same dimensions, the values inside may be added together:"
   ]
  },
  {
   "cell_type": "code",
   "execution_count": null,
   "metadata": {},
   "outputs": [],
   "source": [
    "x + y"
   ]
  },
  {
   "cell_type": "code",
   "execution_count": null,
   "metadata": {},
   "outputs": [],
   "source": [
    "x + z"
   ]
  },
  {
   "cell_type": "markdown",
   "metadata": {},
   "source": [
    "This is a simple case in which one of the two arrays is smaller than the other. There\n",
    "may be more complex cases in which the two arrays have different shapes and each is smaller than the other only in certain dimensions:"
   ]
  },
  {
   "cell_type": "code",
   "execution_count": null,
   "metadata": {},
   "outputs": [],
   "source": [
    "m = np.arange(6).reshape(3, 1, 2)\n",
    "n = np.arange(6).reshape(3, 2, 1)\n",
    "m"
   ]
  },
  {
   "cell_type": "code",
   "execution_count": null,
   "metadata": {},
   "outputs": [],
   "source": [
    "n"
   ]
  },
  {
   "cell_type": "markdown",
   "metadata": {},
   "source": [
    "Even in this case, by analyzing the shapes of the two arrays, you can see that they are\n",
    "compatible and therefore the rules of broadcasting can be applied:\n",
    "    \n",
    "- m: `3 x 1 x 2`\n",
    "- n: `3 x 2 x 1`"
   ]
  },
  {
   "cell_type": "markdown",
   "metadata": {},
   "source": [
    "In this case, both arrays undergo the extension of dimensions (broadcasting):\n",
    "    \n",
    "```python\n",
    "m* = [[[0,1],\n",
    "       [0,1]], \n",
    "      [[2,3], \n",
    "       [2,3]], \n",
    "      [[4,5], \n",
    "       [4,5]]]\n",
    "\n",
    "n* = [[[0,0], \n",
    "       [1,1]], \n",
    "      [[2,2], \n",
    "       [3,3]], \n",
    "      [[4,4], \n",
    "       [5,5]]]\n",
    "```"
   ]
  },
  {
   "cell_type": "markdown",
   "metadata": {},
   "source": [
    "Then you can apply, for example the addition operator between the two arrays, operating element-wise."
   ]
  },
  {
   "cell_type": "code",
   "execution_count": null,
   "metadata": {},
   "outputs": [],
   "source": [
    "m + n"
   ]
  },
  {
   "cell_type": "markdown",
   "metadata": {},
   "source": [
    "### Arithmetic Operations"
   ]
  },
  {
   "cell_type": "markdown",
   "metadata": {},
   "source": [
    "The Standard arithmetic operations with NumPy arrays perform elementwise operations:"
   ]
  },
  {
   "cell_type": "code",
   "execution_count": null,
   "metadata": {},
   "outputs": [],
   "source": [
    "x = np.arange(4, dtype=np.int32).reshape(2, 2)\n",
    "x"
   ]
  },
  {
   "cell_type": "code",
   "execution_count": null,
   "metadata": {},
   "outputs": [],
   "source": [
    "y = np.ones(shape=(2, 2), dtype=np.int32)\n",
    "y"
   ]
  },
  {
   "cell_type": "code",
   "execution_count": null,
   "metadata": {},
   "outputs": [],
   "source": [
    "x + y"
   ]
  },
  {
   "cell_type": "code",
   "execution_count": null,
   "metadata": {},
   "outputs": [],
   "source": [
    "y - x"
   ]
  },
  {
   "cell_type": "code",
   "execution_count": null,
   "metadata": {},
   "outputs": [],
   "source": [
    "x * y"
   ]
  },
  {
   "cell_type": "code",
   "execution_count": null,
   "metadata": {},
   "outputs": [],
   "source": [
    "x / y"
   ]
  },
  {
   "cell_type": "markdown",
   "metadata": {},
   "source": [
    "For operations between scalars and arrays, the scalar value is applied to each element in the array:"
   ]
  },
  {
   "cell_type": "code",
   "execution_count": null,
   "metadata": {},
   "outputs": [],
   "source": [
    "x * 2"
   ]
  },
  {
   "cell_type": "code",
   "execution_count": null,
   "metadata": {},
   "outputs": [],
   "source": [
    "2 ** x"
   ]
  },
  {
   "cell_type": "code",
   "execution_count": null,
   "metadata": {},
   "outputs": [],
   "source": [
    "x / 2"
   ]
  },
  {
   "cell_type": "code",
   "execution_count": null,
   "metadata": {},
   "outputs": [],
   "source": [
    "(x / 2).dtype"
   ]
  },
  {
   "cell_type": "markdown",
   "metadata": {},
   "source": [
    "\n",
    "<div class=\"alert alert-info\">\n",
    "\n",
    "**Note:** \n",
    "    \n",
    "The `dtype` of the resulting array for an expression can be promoted if the computation requires it.\n",
    "</div>\n",
    "\n",
    "\n"
   ]
  },
  {
   "cell_type": "markdown",
   "metadata": {},
   "source": [
    "If an arithmetic operation is performed on arrays with incompatible size or shape, a `ValueError` exception is raised:"
   ]
  },
  {
   "cell_type": "code",
   "execution_count": null,
   "metadata": {},
   "outputs": [],
   "source": [
    "x = np.arange(4).reshape(2, 2)\n",
    "x"
   ]
  },
  {
   "cell_type": "code",
   "execution_count": null,
   "metadata": {},
   "outputs": [],
   "source": [
    "y = np.arange(3)\n",
    "y"
   ]
  },
  {
   "cell_type": "code",
   "execution_count": null,
   "metadata": {},
   "outputs": [],
   "source": [
    "x / y"
   ]
  },
  {
   "cell_type": "markdown",
   "metadata": {},
   "source": [
    "### Elementwise Functions"
   ]
  },
  {
   "cell_type": "markdown",
   "metadata": {},
   "source": [
    "NumPy provides vectorized functions for elementwise evaluation of many elementary mathematical functions:\n"
   ]
  },
  {
   "cell_type": "markdown",
   "metadata": {},
   "source": [
    "| Function                                              \t| Description                                                                                 \t|\n",
    "|-------------------------------------------------------\t|---------------------------------------------------------------------------------------------\t|\n",
    "| `np.cos`, `np.sin`, `np.tan`                          \t| Trigonometric functions.                                                                    \t|\n",
    "| `np.arccos`, `np.arcsin`, `np.arctan`                 \t| Inverse trigonometric functions.                                                            \t|\n",
    "| `np.cosh`, `np.sinh`, `np.tanh`                       \t| Hyperbolic trigonometric functions.                                                         \t|\n",
    "| `np.arccosh`, `np.arcsinh`, `np.arctanh`              \t| Inverse hyperbolic trigonometric functions.                                                 \t|\n",
    "| `np.sqrt`                                             \t| Square root.                                                                                \t|\n",
    "| `np.exp`                                              \t| Exponential.                                                                                \t|\n",
    "| `np.log`, `np.log2`, `np.log10`                       \t| Logarithms of base `e`, `2`,  and `10` respectively.                                        \t|\n",
    "| `np.add`, `np.substract`,  `np.multiply`, `np.divide` \t| Addition, subtraction, multiplication, and division of two NumPy arrays.                    \t|\n",
    "| `np.power`                                            \t| Raises first input argument to the power of the second input argument (applied elementwise) \t|\n",
    "| `np.remainder`                                        \t| The remainder of division.                                                                  \t|\n",
    "| `np.reciprocal`                                       \t| The reciprocal (inverse) of each element.                                                   \t|\n",
    "| `np.real`, `np.imag`, `np.conj`                       \t| The real part, imaginary, and the complex conjugate of  the elements in the input arrays.   \t|\n",
    "| `np.sign`, `np.abs`                                   \t| The sign and the absolute value                                                             \t|\n",
    "| `np.floor`, `np.ceil`, `np.rint`                      \t| Convert to integer values.                                                                  \t|\n",
    "| `np.round`                                            \t| Rounds to a given number of decimals.                                                       \t|"
   ]
  },
  {
   "cell_type": "markdown",
   "metadata": {},
   "source": [
    "\n",
    "<div class=\"alert alert-info\">\n",
    "\n",
    "**Going Further:** \n",
    "    \n",
    "For a complete list of the available elementwise functions in NumPy, see the [NumPy reference documentation](https://docs.scipy.org/doc/numpy/reference/routines.math.html)\n",
    "\n",
    "</div>\n",
    "\n"
   ]
  },
  {
   "cell_type": "markdown",
   "metadata": {},
   "source": [
    "Each of these functions takes a single array as input and returns a new array of the same shape:"
   ]
  },
  {
   "cell_type": "code",
   "execution_count": null,
   "metadata": {},
   "outputs": [],
   "source": [
    "x = np.linspace(-1, 1, 10)\n",
    "x"
   ]
  },
  {
   "cell_type": "code",
   "execution_count": null,
   "metadata": {},
   "outputs": [],
   "source": [
    "np.sin(x)"
   ]
  },
  {
   "cell_type": "code",
   "execution_count": null,
   "metadata": {},
   "outputs": [],
   "source": [
    "np.round(a=x, decimals=2)"
   ]
  },
  {
   "cell_type": "markdown",
   "metadata": {},
   "source": [
    "- When it is necessary to define new elementwise functions that operate on NumPy arrrays, a good way to implement such functions is to use already existing NumPy operators and expressions. In cases when this is not possible, the `np.vectorize` fucntion can be convenient tool.\n",
    "- `np.vectorize()` takes a function that works on a scalar input and returns a vectorized function:"
   ]
  },
  {
   "cell_type": "code",
   "execution_count": null,
   "metadata": {},
   "outputs": [],
   "source": [
    "import math\n",
    "def trig_func(x, y):\n",
    "    return ((math.sin(x) ** 2) + (math.cos(y) ** 2))"
   ]
  },
  {
   "cell_type": "code",
   "execution_count": null,
   "metadata": {},
   "outputs": [],
   "source": [
    "trig_func(1, 1.5)"
   ]
  },
  {
   "cell_type": "markdown",
   "metadata": {},
   "source": [
    "Seems reasonable. However, the math library only works on scalars. If we try to pass in arrays, we'll get an error."
   ]
  },
  {
   "cell_type": "code",
   "execution_count": null,
   "metadata": {},
   "outputs": [],
   "source": [
    "trig_func([1, 2], [1, 2])"
   ]
  },
  {
   "cell_type": "code",
   "execution_count": null,
   "metadata": {},
   "outputs": [],
   "source": [
    "trig_func(np.arange(5), np.arange(5))"
   ]
  },
  {
   "cell_type": "markdown",
   "metadata": {},
   "source": [
    "Using `np.vectorize` the scalar `trig_func` function can be converted into a\n",
    "vectorized function that works with NumPy arrays or any array-like objects as input:"
   ]
  },
  {
   "cell_type": "code",
   "execution_count": null,
   "metadata": {},
   "outputs": [],
   "source": [
    "trig_func = np.vectorize(trig_func)"
   ]
  },
  {
   "cell_type": "code",
   "execution_count": null,
   "metadata": {},
   "outputs": [],
   "source": [
    "trig_func([1, 2], [1, 2])"
   ]
  },
  {
   "cell_type": "code",
   "execution_count": null,
   "metadata": {},
   "outputs": [],
   "source": [
    "trig_func(np.arange(5), np.arange(5))"
   ]
  },
  {
   "cell_type": "markdown",
   "metadata": {},
   "source": [
    "### Aggregate Functions"
   ]
  },
  {
   "cell_type": "markdown",
   "metadata": {},
   "source": [
    "- NumPy provides another set of functions for calculating aggregates for NumPy arrays, which take an array as input and by default return a scalar as output."
   ]
  },
  {
   "cell_type": "markdown",
   "metadata": {},
   "source": [
    "| Function                 \t| Description                                                            \t|\n",
    "|--------------------------\t|------------------------------------------------------------------------\t|\n",
    "| `np.mean`                \t| The average of all values in the array.                                \t|\n",
    "| `np.std`                 \t| Standard deviation.                                                    \t|\n",
    "| `np.var`                 \t| Variance                                                               \t|\n",
    "| `np.sum`                 \t| Sum of all elements                                                    \t|\n",
    "| `np.prod`                \t| Product of all elements.                                               \t|\n",
    "| `np.cumsum`              \t| Cumulative sum of all elements.                                        \t|\n",
    "| `np.cumprod`             \t| Cumulative product of all elements.                                    \t|\n",
    "| `np.min`, `np.max`       \t| The minimum/maximum value in an array.                                 \t|\n",
    "| `np.argmin`, `np.argmax` \t| The index of the minimum/maximum value in an array.                    \t|\n",
    "| `np.all`                 \t| Returns True if all elements in the argument array  are nonzero.       \t|\n",
    "| `np.any`                 \t| Returns True if any of the elements in the argument array  is nonzero. \t|"
   ]
  },
  {
   "cell_type": "markdown",
   "metadata": {},
   "source": [
    "- By default, these functions aggregate over the entire input array. \n",
    "- Using the `axis` keyword argument with these functions, and their corresponding `ndarray` methods, it is possible to control over which axis/dimension in the array aggregatiion is carried out.\n",
    "\n",
    "The following example demonstrates how calling the aggregate `np.sum()` on the array of shape `(3, 3)` reduces the dimensionality of the array depending on the values of the axis argument:\n",
    "\n",
    "\n",
    "![aggregate](../assets/images/agg.jpg)"
   ]
  },
  {
   "cell_type": "code",
   "execution_count": null,
   "metadata": {},
   "outputs": [],
   "source": [
    "x = np.arange(start=10, stop=100, step=10).reshape(3, 3)\n",
    "x"
   ]
  },
  {
   "cell_type": "code",
   "execution_count": null,
   "metadata": {},
   "outputs": [],
   "source": [
    "x.sum()"
   ]
  },
  {
   "cell_type": "code",
   "execution_count": null,
   "metadata": {},
   "outputs": [],
   "source": [
    "x.sum(axis=0)"
   ]
  },
  {
   "cell_type": "code",
   "execution_count": null,
   "metadata": {},
   "outputs": [],
   "source": [
    "x.sum(axis=1)"
   ]
  },
  {
   "cell_type": "markdown",
   "metadata": {},
   "source": [
    "### Boolean Arrays and Conditional Expressions"
   ]
  },
  {
   "cell_type": "markdown",
   "metadata": {},
   "source": [
    "NumPy arrays can be used with the usual comparison operators, and the comparisons are made on an element-by-element basis:"
   ]
  },
  {
   "cell_type": "code",
   "execution_count": null,
   "metadata": {},
   "outputs": [],
   "source": [
    "x = np.linspace(start=10, stop=50, num=10, dtype=np.int32)\n",
    "x"
   ]
  },
  {
   "cell_type": "code",
   "execution_count": null,
   "metadata": {},
   "outputs": [],
   "source": [
    "y = np.linspace(start=5, stop=60, num=10, dtype=np.int32)\n",
    "y"
   ]
  },
  {
   "cell_type": "code",
   "execution_count": null,
   "metadata": {},
   "outputs": [],
   "source": [
    "x > y"
   ]
  },
  {
   "cell_type": "markdown",
   "metadata": {},
   "source": [
    "- To use the result of a comparison between arrays in, for example, an if statement,\n",
    "we need to aggregate the Boolean values of the resulting arrays in some suitable fashion, to obtain a single True or False value."
   ]
  },
  {
   "cell_type": "code",
   "execution_count": null,
   "metadata": {},
   "outputs": [],
   "source": [
    "np.all( x > y) # Test whether all array elements along a given axis evaluate to True."
   ]
  },
  {
   "cell_type": "code",
   "execution_count": null,
   "metadata": {},
   "outputs": [],
   "source": [
    "np.any( x > y) # Test whether any array element along a given axis evaluates to True."
   ]
  },
  {
   "cell_type": "markdown",
   "metadata": {},
   "source": [
    "- The advantage of Boolean-valued arrays, however, is that they often make it possible to avoid conditional if statements altogether. By using Boolean-valued arrays in arithmetic expressions, it is possible to write conditional computations in vectorized form."
   ]
  },
  {
   "cell_type": "code",
   "execution_count": null,
   "metadata": {},
   "outputs": [],
   "source": [
    "x[(x > y)]"
   ]
  },
  {
   "cell_type": "markdown",
   "metadata": {},
   "source": [
    "**NumPy functions for conditional and logical expressions**"
   ]
  },
  {
   "cell_type": "markdown",
   "metadata": {},
   "source": [
    "| Function                          \t| Description                                                                           \t|\n",
    "|-----------------------------------\t|---------------------------------------------------------------------------------------\t|\n",
    "| `np.where`                        \t| Chooses values from two arrays depending on the value of a condition array.           \t|\n",
    "| `np.choose`                       \t| Chooses values from a list of arrays depending on the  values of a given index array. \t|\n",
    "| `np.select`                       \t| Chooses values from a list of arrays depending on a list of conditions.               \t|\n",
    "| `np.nonzero`                      \t| Returns an array with indices of nonzero elements.                                    \t|\n",
    "| `np.logical_and`                  \t| Performs an elementwise AND operation.                                                \t|\n",
    "| `np.logical_or`, `np.logical_xor` \t| Elementwise OR/XOR operations.                                                        \t|\n",
    "| `np.logical_not`                  \t| Elementwise NOT operation (inverting)                                                 \t|"
   ]
  },
  {
   "cell_type": "markdown",
   "metadata": {},
   "source": [
    "- The `np.where` function selects elements from two arrays **(second and third arguments)**, given a Boolean-valued array condition **(the first argument)**. For elements where the condition is True, the corresponding values from the array given as second argument are selected, and if the condition is False, elements from the third argument array are selected:"
   ]
  },
  {
   "cell_type": "code",
   "execution_count": null,
   "metadata": {},
   "outputs": [],
   "source": [
    "x"
   ]
  },
  {
   "cell_type": "code",
   "execution_count": null,
   "metadata": {},
   "outputs": [],
   "source": [
    "np.where(x<0, x*0, x**2)"
   ]
  },
  {
   "cell_type": "code",
   "execution_count": null,
   "metadata": {},
   "outputs": [],
   "source": [
    "np.where(x>0, x*0, x**2)"
   ]
  },
  {
   "cell_type": "markdown",
   "metadata": {},
   "source": [
    "- The `np.select` function works similarly, but instead of a Boolean-valued condition array, it expects a list of Boolean-valued condition arrays and a corresponding list of value arrays"
   ]
  },
  {
   "cell_type": "code",
   "execution_count": null,
   "metadata": {},
   "outputs": [],
   "source": [
    "np.select(condlist=[x < 0, x > 0], choicelist=[x*0, x**2]) # Return an array drawn from elements in choicelist, depending on conditions"
   ]
  },
  {
   "cell_type": "markdown",
   "metadata": {},
   "source": [
    "- The `np.choose` takes as a first argument a list or an array with indices that determine from which array in a given list of arrays an element is picked from:"
   ]
  },
  {
   "cell_type": "code",
   "execution_count": null,
   "metadata": {},
   "outputs": [],
   "source": [
    "np.choose(a=[0, 0, 0, 1, 1, 1, 0, 0, 0, 1], choices=[x*0, x**2])"
   ]
  },
  {
   "cell_type": "markdown",
   "metadata": {},
   "source": [
    "- The function `np.nonzero` returns a tuple of indices that can be used to index the array"
   ]
  },
  {
   "cell_type": "code",
   "execution_count": null,
   "metadata": {},
   "outputs": [],
   "source": [
    "x"
   ]
  },
  {
   "cell_type": "code",
   "execution_count": null,
   "metadata": {},
   "outputs": [],
   "source": [
    "np.nonzero(x > 20)"
   ]
  },
  {
   "cell_type": "code",
   "execution_count": null,
   "metadata": {},
   "outputs": [],
   "source": [
    "x[np.nonzero(x > 20)]"
   ]
  },
  {
   "cell_type": "markdown",
   "metadata": {},
   "source": [
    "## Summary"
   ]
  },
  {
   "cell_type": "markdown",
   "metadata": {},
   "source": [
    "In this tutorial, we've given a brief introduction to array-based programming with Python's NumPy Library. NumPy is a core library that provides a foundation for nearly all computational libraries for Python. Familiarity with the NumPy library and its usage patterns is a fundamental skill for using Python for scientific computing. The NumPy library is the topic of several books, including the Guide to NumPy, by the creator of the NumPy T. Oliphant, available for free online at http://web.mit.edu/dvp/Public/numpybook.pdf, and *Numerical Python (2019)*, and *Python for Data Analysis (2017)*."
   ]
  },
  {
   "cell_type": "markdown",
   "metadata": {},
   "source": [
    "## References\n",
    "\n",
    "- [NumPy Reference Documentation](https://docs.scipy.org/doc/numpy/reference/)\n",
    "- Robert Johansson, Numerical Python 2nd.Urayasu-shi, Apress, 2019.\n",
    "- McKinney, Wes. Python for Data Analysis 2nd. Sebastopol: O’Reilly, 2017."
   ]
  },
  {
   "cell_type": "code",
   "execution_count": null,
   "metadata": {},
   "outputs": [],
   "source": [
    "%load_ext watermark\n",
    "%watermark --iversion -g -h -m -v -u -d"
   ]
  }
 ],
 "metadata": {
  "kernelspec": {
   "display_name": "Python 3",
   "language": "python",
   "name": "python3"
  },
  "language_info": {
   "codemirror_mode": {
    "name": "ipython",
    "version": 3
   },
   "file_extension": ".py",
   "mimetype": "text/x-python",
   "name": "python",
   "nbconvert_exporter": "python",
   "pygments_lexer": "ipython3",
   "version": "3.6.7"
  }
 },
 "nbformat": 4,
 "nbformat_minor": 2
}
